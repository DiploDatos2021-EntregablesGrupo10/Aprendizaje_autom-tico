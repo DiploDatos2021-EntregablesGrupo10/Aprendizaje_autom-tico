{
  "nbformat": 4,
  "nbformat_minor": 0,
  "metadata": {
    "kernelspec": {
      "display_name": "Python 3",
      "language": "python",
      "name": "python3"
    },
    "language_info": {
      "codemirror_mode": {
        "name": "ipython",
        "version": 3
      },
      "file_extension": ".py",
      "mimetype": "text/x-python",
      "name": "python",
      "nbconvert_exporter": "python",
      "pygments_lexer": "ipython3",
      "version": "3.8.10"
    },
    "colab": {
      "name": "Entregable_2.ipynb",
      "provenance": [],
      "collapsed_sections": []
    }
  },
  "cells": [
    {
      "cell_type": "markdown",
      "metadata": {
        "id": "EQCM46nTFdyI"
      },
      "source": [
        "# Laboratorio 2: Armado de un esquema de aprendizaje automático\n",
        "\n",
        "En el laboratorio final se espera que puedan poner en práctica los conocimientos adquiridos en el curso, trabajando con un conjunto de datos de clasificación.\n",
        "\n",
        "El objetivo es que se introduzcan en el desarrollo de un esquema para hacer tareas de aprendizaje automático: selección de un modelo, ajuste de hiperparámetros y evaluación.\n",
        "\n",
        "El conjunto de datos a utilizar está en `./data/loan_data.csv`. Si abren el archivo verán que al principio (las líneas que empiezan con `#`) describen el conjunto de datos y sus atributos (incluyendo el atributo de etiqueta o clase).\n",
        "\n",
        "Se espera que hagan uso de las herramientas vistas en el curso. Se espera que hagan uso especialmente de las herramientas brindadas por `scikit-learn`."
      ]
    },
    {
      "cell_type": "code",
      "metadata": {
        "id": "m1QquRX6FdyL"
      },
      "source": [
        "import numpy as np\n",
        "import pandas as pd\n",
        "import seaborn as sn\n",
        "from matplotlib import pyplot as plt\n",
        "\n",
        "# TODO: Agregar las librerías que hagan falta\n",
        "from sklearn.model_selection import train_test_split\n",
        "from sklearn.metrics import classification_report\n",
        "from sklearn.linear_model import SGDClassifier\n",
        "from sklearn.preprocessing import RobustScaler\n",
        "from sklearn.metrics import confusion_matrix\n",
        "from sklearn.model_selection import ParameterGrid\n",
        "from sklearn.model_selection import GridSearchCV\n",
        "from sklearn.metrics import accuracy_score\n",
        "from sklearn.metrics import recall_score\n",
        "from sklearn.metrics import explained_variance_score\n",
        "from sklearn.tree import DecisionTreeClassifier"
      ],
      "execution_count": null,
      "outputs": []
    },
    {
      "cell_type": "markdown",
      "metadata": {
        "id": "PCWpMoGNFdyM"
      },
      "source": [
        "## Carga de datos y división en entrenamiento y evaluación\n",
        "\n",
        "La celda siguiente se encarga de la carga de datos (haciendo uso de pandas). Estos serán los que se trabajarán en el resto del laboratorio."
      ]
    },
    {
      "cell_type": "code",
      "metadata": {
        "id": "nv2ha4LNFdyN"
      },
      "source": [
        "dataset = pd.read_csv(\"/content/data_load.csv\", comment=\"#\")\n",
        "\n",
        "# División entre instancias y etiquetas\n",
        "X, y = dataset.iloc[:, 1:], dataset.TARGET\n",
        "\n",
        "# división entre entrenamiento y evaluación\n",
        "X_train, X_test, y_train, y_test = train_test_split(X, y, test_size=0.2, random_state=0)"
      ],
      "execution_count": null,
      "outputs": []
    },
    {
      "cell_type": "code",
      "metadata": {
        "colab": {
          "base_uri": "https://localhost:8080/"
        },
        "id": "kWtHC4v2ay53",
        "outputId": "12f60ee7-7cc3-4684-e4a6-0dde7cd4d05a"
      },
      "source": [
        "dataset.shape"
      ],
      "execution_count": null,
      "outputs": [
        {
          "output_type": "execute_result",
          "data": {
            "text/plain": [
              "(1854, 11)"
            ]
          },
          "metadata": {
            "tags": []
          },
          "execution_count": 24
        }
      ]
    },
    {
      "cell_type": "code",
      "metadata": {
        "id": "-lLPELWwKGan"
      },
      "source": [
        "#Normalización de datos\n",
        "scaler = RobustScaler().fit(X_test)\n",
        "X_test = scaler.transform(X_test)\n",
        "X_train = scaler.transform(X_train)"
      ],
      "execution_count": null,
      "outputs": []
    },
    {
      "cell_type": "markdown",
      "metadata": {
        "id": "nuETmJFYFdyN"
      },
      "source": [
        "\n",
        "Documentación:\n",
        "\n",
        "- https://scikit-learn.org/stable/modules/generated/sklearn.model_selection.train_test_split.html"
      ]
    },
    {
      "cell_type": "markdown",
      "metadata": {
        "id": "7JATUfyiFdyN"
      },
      "source": [
        "## Ejercicio 1: Descripción de los Datos y la Tarea\n",
        "\n",
        "Responder las siguientes preguntas:\n",
        "\n",
        "1. ¿De qué se trata el conjunto de datos?\n",
        "2. ¿Cuál es la variable objetivo que hay que predecir? ¿Qué significado tiene?\n",
        "3. ¿Qué información (atributos) hay disponible para hacer la predicción?\n",
        "4. ¿Qué atributos imagina ud. que son los más determinantes para la predicción?\n",
        "\n"
      ]
    },
    {
      "cell_type": "markdown",
      "metadata": {
        "id": "uUQNtIIkfGZv"
      },
      "source": [
        "### Respuestas ejercicio 1\n",
        "1. El conjunto de datos contiene informacion de referencia y de rendimiento de prestamos hipotecarios para 1854 casos. \n",
        "\n",
        "2. El TARGET es una variable binaria que indica si un solicitante finalmente incumplió con el pago o no. Los atributos son 11. \n",
        "\n",
        "3. Los atributos disponibles son los siguientes: \n",
        "\n",
        "- TARGET: 1 = cliente incumplió con el pago - 0 = préstamo reembolsado\n",
        "- LOAN: Monto de la solicitud de préstamo\n",
        "- MORTDUE: Monto adeudado de la hipoteca existente\n",
        "- VALUE: Valor de la propiedad actual\n",
        "- YOJ: Años en el trabajo actual\n",
        "- DEROG: Número de informes despectivos importantes\n",
        "- DELINQ: Número de líneas de crédito morosas\n",
        "- CLAGE: Antigüedad de la línea comercial más antigua (en meses)\n",
        "- NINQ: Número de líneas de crédito recientes\n",
        "- CLNO: Número de líneas de crédito\n",
        "- DEBTINC: Relación deuda-ingresos\n",
        "\n",
        "4. Los atributos que creemos son más determinantes para la predicción son los siguientes: \n",
        "\n",
        "- LOAN\n",
        "- YOJ\n",
        "- DEROG \n",
        "- DELINQ\n",
        "- NINQ\n",
        "- DEBTINC"
      ]
    },
    {
      "cell_type": "markdown",
      "metadata": {
        "id": "70JJ5ozcFdyO"
      },
      "source": [
        "## Ejercicio 2: Predicción con Modelos Lineales\n",
        "\n",
        "En este ejercicio se entrenarán modelos lineales de clasificación para predecir la variable objetivo.\n",
        "\n",
        "Para ello, deberán utilizar la clase SGDClassifier de scikit-learn.\n",
        "\n",
        "Documentación:\n",
        "- https://scikit-learn.org/stable/modules/sgd.html\n",
        "- https://scikit-learn.org/stable/modules/generated/sklearn.linear_model.SGDClassifier.html\n"
      ]
    },
    {
      "cell_type": "markdown",
      "metadata": {
        "id": "wBHbQk6lFdyP"
      },
      "source": [
        "### Ejercicio 2.1: SGDClassifier con hiperparámetros por defecto\n",
        "\n",
        "Entrenar y evaluar el clasificador SGDClassifier usando los valores por omisión de scikit-learn para todos los parámetros. Únicamente **fijar la semilla aleatoria** para hacer repetible el experimento.\n",
        "\n",
        "Evaluar sobre el conjunto de **entrenamiento** y sobre el conjunto de **evaluación**, reportando:\n",
        "- Accuracy\n",
        "- Precision\n",
        "- Recall\n",
        "- F1\n",
        "- matriz de confusión"
      ]
    },
    {
      "cell_type": "code",
      "metadata": {
        "colab": {
          "base_uri": "https://localhost:8080/"
        },
        "id": "ZqvURYEWWaTa",
        "outputId": "d303e2fb-e3a9-4d94-b167-53ed8705d97f"
      },
      "source": [
        "model = SGDClassifier(random_state=0) #SGD : descenso del gradiente estocastico , #el valor 0 para random... implica que a partir de ese entero\n",
        "# se determina la nueva semilla aleatoria. \n",
        "\n",
        "#Entrenamos el modelo con los datos del conjunto de training\n",
        "\n",
        "model.fit(X_train, y_train) "
      ],
      "execution_count": null,
      "outputs": [
        {
          "output_type": "execute_result",
          "data": {
            "text/plain": [
              "SGDClassifier(alpha=0.0001, average=False, class_weight=None,\n",
              "              early_stopping=False, epsilon=0.1, eta0=0.0, fit_intercept=True,\n",
              "              l1_ratio=0.15, learning_rate='optimal', loss='hinge',\n",
              "              max_iter=1000, n_iter_no_change=5, n_jobs=None, penalty='l2',\n",
              "              power_t=0.5, random_state=0, shuffle=True, tol=0.001,\n",
              "              validation_fraction=0.1, verbose=0, warm_start=False)"
            ]
          },
          "metadata": {
            "tags": []
          },
          "execution_count": 26
        }
      ]
    },
    {
      "cell_type": "code",
      "metadata": {
        "id": "V1DlQp8oZLVq"
      },
      "source": [
        "#Hacemos predicciones sobre el conjunto de training y de test haciendo uso del modelo entrenado. \n",
        "\n",
        "y_predict_test = model.predict(X_test)\n",
        "\n",
        "y_predict_train = model.predict(X_train)"
      ],
      "execution_count": null,
      "outputs": []
    },
    {
      "cell_type": "code",
      "metadata": {
        "colab": {
          "base_uri": "https://localhost:8080/"
        },
        "id": "eio-rxTmY-Ol",
        "outputId": "9fd349d4-47e0-4dd8-86aa-3aa7c8798b2e"
      },
      "source": [
        "names = ['Cliente Pagador', 'Cliente Deudor']\n",
        "\n",
        "print('Reporte de clasificacion del conjunto de test: ')\n",
        "print('')\n",
        "print(classification_report(y_test, y_predict_test, target_names=names))\n",
        "print('Reporte de clasificacion del conjunto de training: ')\n",
        "print('')\n",
        "print(classification_report(y_train, y_predict_train, target_names=names))"
      ],
      "execution_count": null,
      "outputs": [
        {
          "output_type": "stream",
          "text": [
            "Reporte de clasificacion del conjunto de test: \n",
            "\n",
            "                 precision    recall  f1-score   support\n",
            "\n",
            "Cliente Pagador       0.86      1.00      0.93       313\n",
            " Cliente Deudor       0.90      0.16      0.26        58\n",
            "\n",
            "       accuracy                           0.87       371\n",
            "      macro avg       0.88      0.58      0.60       371\n",
            "   weighted avg       0.87      0.87      0.82       371\n",
            "\n",
            "Reporte de clasificacion del conjunto de training: \n",
            "\n",
            "                 precision    recall  f1-score   support\n",
            "\n",
            "Cliente Pagador       0.86      0.99      0.92      1232\n",
            " Cliente Deudor       0.76      0.23      0.35       251\n",
            "\n",
            "       accuracy                           0.86      1483\n",
            "      macro avg       0.81      0.61      0.64      1483\n",
            "   weighted avg       0.85      0.86      0.82      1483\n",
            "\n"
          ],
          "name": "stdout"
        }
      ]
    },
    {
      "cell_type": "markdown",
      "metadata": {
        "id": "ZIIzYYaHi__L"
      },
      "source": [
        "De las metricas observamos que de los 371 casos del conjunto de test, 313 son clientes pagadores y solo 58, deudores. Ahora bien, para la clase \"Cliente Pagador\" el modelo tiene una precision de 0.86. Esto signifca que el 86% de los clientes que supusimos pagadores realmente lo son. Además el modelo tiene una recall de 1, esto significa que identificamos el 100% de los pagadores. Luego, el valor de F1 es 0.93. \n",
        "En cuanto a la clase \"Cliente Deudor\", vemos que el modelo tiene una precision del 90%, esto significa que de los clientes que identificamos como deudores, el 90% lo era efectivamente. Ademas se identificaron el 16% de los deudores. Finalmente, F1 es 0.26. \n",
        "El modelo mide una accuracy del 87%. Sin embargo, esta metrica es engañosa si las clases están desbalanceadas, como en este caso donde tenemos solo 58 clientes deudores vs. 313 clientes pagadores. \n"
      ]
    },
    {
      "cell_type": "code",
      "metadata": {
        "colab": {
          "base_uri": "https://localhost:8080/",
          "height": 336
        },
        "id": "lsRUkFVLa6e_",
        "outputId": "d0b93491-39b6-4ea3-f398-127d71f03ce4"
      },
      "source": [
        "print(confusion_matrix(y_test, y_predict_test))\n",
        "sn.heatmap(confusion_matrix(y_test, y_predict_test),annot=True)\n",
        "plt.title('Matriz de Confusion de Clasificador SGD por defecto',fontsize=15)\n",
        "# By definition a confusion matrix C is such that C[i,j] is equal to the number of observations \n",
        "# known to be in group i and predicted to be in group j.\n",
        "# Thus in binary classification, the count of true negatives is C[0,0], false negatives is C[1,0] , \n",
        "# true positives is C[1,1] and false positives is C[0,1].\n",
        "\n"
      ],
      "execution_count": null,
      "outputs": [
        {
          "output_type": "stream",
          "text": [
            "[[312   1]\n",
            " [ 49   9]]\n"
          ],
          "name": "stdout"
        },
        {
          "output_type": "execute_result",
          "data": {
            "text/plain": [
              "Text(0.5, 1.0, 'Matriz de Confusion de Clasificador SGD por defecto')"
            ]
          },
          "metadata": {
            "tags": []
          },
          "execution_count": 29
        },
        {
          "output_type": "display_data",
          "data": {
            "image/png": "[encoded data removed]",
            "text/plain": [
              "<Figure size 432x288 with 2 Axes>"
            ]
          },
          "metadata": {
            "tags": [],
            "needs_background": "light"
          }
        }
      ]
    },
    {
      "cell_type": "markdown",
      "metadata": {
        "id": "XnuQCa0zyYp0"
      },
      "source": [
        "De la matriz de confusion podemos ver que tenemos 312 TN (true negatives) y solo 9 TP (true positives). Es decir, identificamos 312 de los 313 pagadores pero solo 9 de los 58 deudores. Los FP son 1, un pagador que asumimos como deudor y los FN son 49, 49 clientes que asumimos como pagadores y resultaron deudores. Modelos mas optimos esperan mayores valores en la diagonal y valores pequeños a los lados. "
      ]
    },
    {
      "cell_type": "markdown",
      "metadata": {
        "id": "hE3NMm3JFdyQ"
      },
      "source": [
        "### Ejercicio 2.2: Ajuste de Hiperparámetros\n",
        "\n",
        "Seleccionar valores para los hiperparámetros principales del SGDClassifier. Como mínimo, probar diferentes funciones de loss, tasas de entrenamiento y tasas de regularización.\n",
        "\n",
        "Para ello, usar grid-search y 5-fold cross-validation sobre el conjunto de entrenamiento para explorar muchas combinaciones posibles de valores.\n",
        "\n",
        "Reportar accuracy promedio y varianza para todas las configuraciones.\n",
        "\n",
        "Para la mejor configuración encontrada, evaluar sobre el conjunto de **entrenamiento** y sobre el conjunto de **evaluación**, reportando:\n",
        "- Accuracy\n",
        "- Precision\n",
        "- Recall\n",
        "- F1\n",
        "- matriz de confusión\n",
        "\n",
        "Documentación:\n",
        "- https://scikit-learn.org/stable/modules/grid_search.html\n",
        "- https://scikit-learn.org/stable/modules/generated/sklearn.model_selection.GridSearchCV.html"
      ]
    },
    {
      "cell_type": "markdown",
      "metadata": {
        "id": "QZDpj1a4Yhoo"
      },
      "source": [
        "Deseamos mejorar nuestro modelo. Para ello: comenzamos probando y listando las distintas combinaciones posibles (\"a  mano\") empleando \n",
        "ParameterGrid. "
      ]
    },
    {
      "cell_type": "code",
      "metadata": {
        "colab": {
          "base_uri": "https://localhost:8080/"
        },
        "id": "l5jiPNFDb8xJ",
        "outputId": "ca96ac5e-fba6-49ea-a674-ca677bc123df"
      },
      "source": [
        "param_grid = {\n",
        "    'loss': ['hinge', 'log', 'squared_epsilon_insensitive','squared_loss','modified_huber','perceptron'],\n",
        "    'learning_rate': ['optimal'],\n",
        "    'alpha': [0.1, 0.01, 0.001, 0.0001]\n",
        "}\n",
        "prev_accuracy_score = 0\n",
        "for params in ParameterGrid(param_grid):\n",
        "    model = SGDClassifier(**params, random_state=0)\n",
        "    model.fit(X_train, y_train)\n",
        "    y_predict_test = model.predict(X_test)\n",
        "    accuracy = accuracy_score(y_test, y_predict_test, normalize=True)\n",
        "    variance = explained_variance_score(y_test, y_predict_test, multioutput='uniform_average')\n",
        "    print()\n",
        "    print('Classification Report: ')\n",
        "    print(classification_report(y_test, y_predict_test))\n",
        "    print('Params: ',params)\n",
        "    print('Accuracy: ', accuracy,' Variance: ', variance)\n",
        "    print()\n",
        "    if accuracy > prev_accuracy_score:\n",
        "      best_model = model\n",
        "      prev_accuracy_score = accuracy\n",
        "      best_params = params\n",
        "      best_variance = variance\n",
        "print('')\n",
        "print('')\n",
        "print('El mejor modelo es: ', best_model, 'Con una accuracy de: ', prev_accuracy_score, 'Sus parámetros son: ', best_params, 'Y su varianza es: ', best_variance)"
      ],
      "execution_count": null,
      "outputs": [
        {
          "output_type": "stream",
          "text": [
            "\n",
            "Classification Report: \n",
            "              precision    recall  f1-score   support\n",
            "\n",
            "           0       0.87      1.00      0.93       313\n",
            "           1       1.00      0.17      0.29        58\n",
            "\n",
            "    accuracy                           0.87       371\n",
            "   macro avg       0.93      0.59      0.61       371\n",
            "weighted avg       0.89      0.87      0.83       371\n",
            "\n",
            "Params:  {'alpha': 0.1, 'learning_rate': 'optimal', 'loss': 'hinge'}\n",
            "Accuracy:  0.8706199460916442  Variance:  0.14597333920898958\n",
            "\n",
            "\n",
            "Classification Report: \n",
            "              precision    recall  f1-score   support\n",
            "\n",
            "           0       0.87      1.00      0.93       313\n",
            "           1       1.00      0.19      0.32        58\n",
            "\n",
            "    accuracy                           0.87       371\n",
            "   macro avg       0.93      0.59      0.62       371\n",
            "weighted avg       0.89      0.87      0.83       371\n",
            "\n",
            "Params:  {'alpha': 0.1, 'learning_rate': 'optimal', 'loss': 'log'}\n",
            "Accuracy:  0.8733153638814016  Variance:  0.16117660019830327\n",
            "\n",
            "\n",
            "Classification Report: \n",
            "              precision    recall  f1-score   support\n",
            "\n",
            "           0       0.87      1.00      0.93       313\n",
            "           1       0.93      0.22      0.36        58\n",
            "\n",
            "    accuracy                           0.88       371\n",
            "   macro avg       0.90      0.61      0.65       371\n",
            "weighted avg       0.88      0.88      0.84       371\n",
            "\n",
            "Params:  {'alpha': 0.1, 'learning_rate': 'optimal', 'loss': 'squared_epsilon_insensitive'}\n",
            "Accuracy:  0.876010781671159  Variance:  0.16657485953508833\n",
            "\n",
            "\n",
            "Classification Report: \n",
            "              precision    recall  f1-score   support\n",
            "\n",
            "           0       0.87      1.00      0.93       313\n",
            "           1       0.92      0.21      0.34        58\n",
            "\n",
            "    accuracy                           0.87       371\n",
            "   macro avg       0.90      0.60      0.63       371\n",
            "weighted avg       0.88      0.87      0.84       371\n",
            "\n",
            "Params:  {'alpha': 0.1, 'learning_rate': 'optimal', 'loss': 'squared_loss'}\n",
            "Accuracy:  0.8733153638814016  Variance:  0.1510410928720941\n",
            "\n",
            "\n",
            "Classification Report: \n",
            "              precision    recall  f1-score   support\n",
            "\n",
            "           0       0.87      0.99      0.93       313\n",
            "           1       0.87      0.22      0.36        58\n",
            "\n",
            "    accuracy                           0.87       371\n",
            "   macro avg       0.87      0.61      0.64       371\n",
            "weighted avg       0.87      0.87      0.84       371\n",
            "\n",
            "Params:  {'alpha': 0.1, 'learning_rate': 'optimal', 'loss': 'modified_huber'}\n",
            "Accuracy:  0.8733153638814016  Variance:  0.1413462597774593\n",
            "\n",
            "\n",
            "Classification Report: \n",
            "              precision    recall  f1-score   support\n",
            "\n",
            "           0       0.89      0.95      0.92       313\n",
            "           1       0.56      0.38      0.45        58\n",
            "\n",
            "    accuracy                           0.86       371\n",
            "   macro avg       0.73      0.66      0.69       371\n",
            "weighted avg       0.84      0.86      0.85       371\n",
            "\n",
            "Params:  {'alpha': 0.1, 'learning_rate': 'optimal', 'loss': 'perceptron'}\n",
            "Accuracy:  0.8571428571428571  Variance:  -0.06323675223091363\n",
            "\n",
            "\n",
            "Classification Report: \n",
            "              precision    recall  f1-score   support\n",
            "\n",
            "           0       0.88      1.00      0.93       313\n",
            "           1       0.94      0.26      0.41        58\n",
            "\n",
            "    accuracy                           0.88       371\n",
            "   macro avg       0.91      0.63      0.67       371\n",
            "weighted avg       0.89      0.88      0.85       371\n",
            "\n",
            "Params:  {'alpha': 0.01, 'learning_rate': 'optimal', 'loss': 'hinge'}\n",
            "Accuracy:  0.8814016172506739  Variance:  0.19797289853475797\n",
            "\n",
            "\n",
            "Classification Report: \n",
            "              precision    recall  f1-score   support\n",
            "\n",
            "           0       0.88      0.98      0.93       313\n",
            "           1       0.74      0.24      0.36        58\n",
            "\n",
            "    accuracy                           0.87       371\n",
            "   macro avg       0.81      0.61      0.64       371\n",
            "weighted avg       0.85      0.87      0.84       371\n",
            "\n",
            "Params:  {'alpha': 0.01, 'learning_rate': 'optimal', 'loss': 'log'}\n",
            "Accuracy:  0.8679245283018868  Variance:  0.0824060813043953\n",
            "\n",
            "\n",
            "Classification Report: \n",
            "              precision    recall  f1-score   support\n",
            "\n",
            "           0       0.88      0.99      0.93       313\n",
            "           1       0.78      0.24      0.37        58\n",
            "\n",
            "    accuracy                           0.87       371\n",
            "   macro avg       0.83      0.61      0.65       371\n",
            "weighted avg       0.86      0.87      0.84       371\n",
            "\n",
            "Params:  {'alpha': 0.01, 'learning_rate': 'optimal', 'loss': 'squared_epsilon_insensitive'}\n",
            "Accuracy:  0.8706199460916442  Variance:  0.10719400683045022\n",
            "\n",
            "\n",
            "Classification Report: \n",
            "              precision    recall  f1-score   support\n",
            "\n",
            "           0       0.88      0.98      0.92       313\n",
            "           1       0.68      0.26      0.38        58\n",
            "\n",
            "    accuracy                           0.87       371\n",
            "   macro avg       0.78      0.62      0.65       371\n",
            "weighted avg       0.85      0.87      0.84       371\n",
            "\n",
            "Params:  {'alpha': 0.01, 'learning_rate': 'optimal', 'loss': 'squared_loss'}\n",
            "Accuracy:  0.8652291105121294  Variance:  0.04957585105210949\n",
            "\n",
            "\n",
            "Classification Report: \n",
            "              precision    recall  f1-score   support\n",
            "\n",
            "           0       0.88      1.00      0.93       313\n",
            "           1       1.00      0.24      0.39        58\n",
            "\n",
            "    accuracy                           0.88       371\n",
            "   macro avg       0.94      0.62      0.66       371\n",
            "weighted avg       0.90      0.88      0.85       371\n",
            "\n",
            "Params:  {'alpha': 0.01, 'learning_rate': 'optimal', 'loss': 'modified_huber'}\n",
            "Accuracy:  0.8814016172506739  Variance:  0.2074473945136055\n",
            "\n",
            "\n",
            "Classification Report: \n",
            "              precision    recall  f1-score   support\n",
            "\n",
            "           0       0.91      0.87      0.89       313\n",
            "           1       0.44      0.55      0.49        58\n",
            "\n",
            "    accuracy                           0.82       371\n",
            "   macro avg       0.68      0.71      0.69       371\n",
            "weighted avg       0.84      0.82      0.83       371\n",
            "\n",
            "Params:  {'alpha': 0.01, 'learning_rate': 'optimal', 'loss': 'perceptron'}\n",
            "Accuracy:  0.8221024258760108  Variance:  -0.3379971356174951\n",
            "\n",
            "\n",
            "Classification Report: \n",
            "              precision    recall  f1-score   support\n",
            "\n",
            "           0       0.88      1.00      0.94       313\n",
            "           1       1.00      0.29      0.45        58\n",
            "\n",
            "    accuracy                           0.89       371\n",
            "   macro avg       0.94      0.65      0.70       371\n",
            "weighted avg       0.90      0.89      0.86       371\n",
            "\n",
            "Params:  {'alpha': 0.001, 'learning_rate': 'optimal', 'loss': 'hinge'}\n",
            "Accuracy:  0.889487870619946  Variance:  0.25470970584995034\n",
            "\n",
            "\n",
            "Classification Report: \n",
            "              precision    recall  f1-score   support\n",
            "\n",
            "           0       0.89      0.96      0.93       313\n",
            "           1       0.66      0.36      0.47        58\n",
            "\n",
            "    accuracy                           0.87       371\n",
            "   macro avg       0.77      0.66      0.70       371\n",
            "weighted avg       0.85      0.87      0.85       371\n",
            "\n",
            "Params:  {'alpha': 0.001, 'learning_rate': 'optimal', 'loss': 'log'}\n",
            "Accuracy:  0.8706199460916442  Variance:  0.05629613308361747\n",
            "\n",
            "\n",
            "Classification Report: \n",
            "              precision    recall  f1-score   support\n",
            "\n",
            "           0       0.89      0.95      0.92       313\n",
            "           1       0.55      0.36      0.44        58\n",
            "\n",
            "    accuracy                           0.85       371\n",
            "   macro avg       0.72      0.65      0.68       371\n",
            "weighted avg       0.84      0.85      0.84       371\n",
            "\n",
            "Params:  {'alpha': 0.001, 'learning_rate': 'optimal', 'loss': 'squared_epsilon_insensitive'}\n",
            "Accuracy:  0.8544474393530997  Variance:  -0.08152473284124762\n",
            "\n",
            "\n",
            "Classification Report: \n",
            "              precision    recall  f1-score   support\n",
            "\n",
            "           0       0.88      1.00      0.94       313\n",
            "           1       0.94      0.28      0.43        58\n",
            "\n",
            "    accuracy                           0.88       371\n",
            "   macro avg       0.91      0.64      0.68       371\n",
            "weighted avg       0.89      0.88      0.86       371\n",
            "\n",
            "Params:  {'alpha': 0.001, 'learning_rate': 'optimal', 'loss': 'squared_loss'}\n",
            "Accuracy:  0.8840970350404312  Variance:  0.21383717087143317\n",
            "\n",
            "\n",
            "Classification Report: \n",
            "              precision    recall  f1-score   support\n",
            "\n",
            "           0       0.88      0.97      0.93       313\n",
            "           1       0.69      0.31      0.43        58\n",
            "\n",
            "    accuracy                           0.87       371\n",
            "   macro avg       0.79      0.64      0.68       371\n",
            "weighted avg       0.85      0.87      0.85       371\n",
            "\n",
            "Params:  {'alpha': 0.001, 'learning_rate': 'optimal', 'loss': 'modified_huber'}\n",
            "Accuracy:  0.8706199460916442  Variance:  0.07546546215709982\n",
            "\n",
            "\n",
            "Classification Report: \n",
            "              precision    recall  f1-score   support\n",
            "\n",
            "           0       0.91      0.82      0.86       313\n",
            "           1       0.36      0.55      0.44        58\n",
            "\n",
            "    accuracy                           0.78       371\n",
            "   macro avg       0.63      0.68      0.65       371\n",
            "weighted avg       0.82      0.78      0.79       371\n",
            "\n",
            "Params:  {'alpha': 0.001, 'learning_rate': 'optimal', 'loss': 'perceptron'}\n",
            "Accuracy:  0.7762803234501348  Variance:  -0.6432742095405979\n",
            "\n",
            "\n",
            "Classification Report: \n",
            "              precision    recall  f1-score   support\n",
            "\n",
            "           0       0.86      1.00      0.93       313\n",
            "           1       0.90      0.16      0.26        58\n",
            "\n",
            "    accuracy                           0.87       371\n",
            "   macro avg       0.88      0.58      0.60       371\n",
            "weighted avg       0.87      0.87      0.82       371\n",
            "\n",
            "Params:  {'alpha': 0.0001, 'learning_rate': 'optimal', 'loss': 'hinge'}\n",
            "Accuracy:  0.8652291105121294  Variance:  0.10510080423047252\n",
            "\n",
            "\n",
            "Classification Report: \n",
            "              precision    recall  f1-score   support\n",
            "\n",
            "           0       0.88      0.97      0.93       313\n",
            "           1       0.69      0.31      0.43        58\n",
            "\n",
            "    accuracy                           0.87       371\n",
            "   macro avg       0.79      0.64      0.68       371\n",
            "weighted avg       0.85      0.87      0.85       371\n",
            "\n",
            "Params:  {'alpha': 0.0001, 'learning_rate': 'optimal', 'loss': 'log'}\n",
            "Accuracy:  0.8706199460916442  Variance:  0.07546546215709982\n",
            "\n",
            "\n",
            "Classification Report: \n",
            "              precision    recall  f1-score   support\n",
            "\n",
            "           0       0.83      0.70      0.76       313\n",
            "           1       0.11      0.21      0.15        58\n",
            "\n",
            "    accuracy                           0.62       371\n",
            "   macro avg       0.47      0.45      0.45       371\n",
            "weighted avg       0.71      0.62      0.66       371\n",
            "\n",
            "Params:  {'alpha': 0.0001, 'learning_rate': 'optimal', 'loss': 'squared_epsilon_insensitive'}\n",
            "Accuracy:  0.6199460916442049  Variance:  -1.749256362234219\n",
            "\n",
            "\n",
            "Classification Report: \n",
            "              precision    recall  f1-score   support\n",
            "\n",
            "           0       0.83      0.66      0.74       313\n",
            "           1       0.14      0.29      0.19        58\n",
            "\n",
            "    accuracy                           0.60       371\n",
            "   macro avg       0.49      0.48      0.46       371\n",
            "weighted avg       0.73      0.60      0.65       371\n",
            "\n",
            "Params:  {'alpha': 0.0001, 'learning_rate': 'optimal', 'loss': 'squared_loss'}\n",
            "Accuracy:  0.601078167115903  Variance:  -1.7846204693180567\n",
            "\n",
            "\n",
            "Classification Report: \n",
            "              precision    recall  f1-score   support\n",
            "\n",
            "           0       0.88      0.88      0.88       313\n",
            "           1       0.36      0.38      0.37        58\n",
            "\n",
            "    accuracy                           0.80       371\n",
            "   macro avg       0.62      0.63      0.62       371\n",
            "weighted avg       0.80      0.80      0.80       371\n",
            "\n",
            "Params:  {'alpha': 0.0001, 'learning_rate': 'optimal', 'loss': 'modified_huber'}\n",
            "Accuracy:  0.7978436657681941  Variance:  -0.5322243031838723\n",
            "\n",
            "\n",
            "Classification Report: \n",
            "              precision    recall  f1-score   support\n",
            "\n",
            "           0       0.88      0.94      0.91       313\n",
            "           1       0.50      0.31      0.38        58\n",
            "\n",
            "    accuracy                           0.84       371\n",
            "   macro avg       0.69      0.63      0.65       371\n",
            "weighted avg       0.82      0.84      0.83       371\n",
            "\n",
            "Params:  {'alpha': 0.0001, 'learning_rate': 'optimal', 'loss': 'perceptron'}\n",
            "Accuracy:  0.8436657681940701  Variance:  -0.15864272336675156\n",
            "\n",
            "\n",
            "\n",
            "El mejor modelo es:  SGDClassifier(alpha=0.001, average=False, class_weight=None,\n",
            "              early_stopping=False, epsilon=0.1, eta0=0.0, fit_intercept=True,\n",
            "              l1_ratio=0.15, learning_rate='optimal', loss='hinge',\n",
            "              max_iter=1000, n_iter_no_change=5, n_jobs=None, penalty='l2',\n",
            "              power_t=0.5, random_state=0, shuffle=True, tol=0.001,\n",
            "              validation_fraction=0.1, verbose=0, warm_start=False) Con una accuracy de:  0.889487870619946 Sus parámetros son:  {'alpha': 0.001, 'learning_rate': 'optimal', 'loss': 'hinge'} Y su varianza es:  0.25470970584995034\n"
          ],
          "name": "stdout"
        }
      ]
    },
    {
      "cell_type": "markdown",
      "metadata": {
        "id": "S9DIsXlsYyDf"
      },
      "source": [
        "De acuerdo con esto el \"mejor modelo\" es el GDClassifier con parametros: {'alpha': 0.001, 'learning_rate': 'optimal', 'loss': 'hinge'} . Logra una accuracy de 0.889487870619946 y una varianza de:  0.25470970584995034. Veamos si mejora la matriz de confusion. "
      ]
    },
    {
      "cell_type": "code",
      "metadata": {
        "colab": {
          "base_uri": "https://localhost:8080/"
        },
        "id": "M8hMq9Dwb3Vh",
        "outputId": "e3c7eae5-88b2-477a-da86-b243b7c67ea1"
      },
      "source": [
        "best_model"
      ],
      "execution_count": null,
      "outputs": [
        {
          "output_type": "execute_result",
          "data": {
            "text/plain": [
              "SGDClassifier(alpha=0.001, average=False, class_weight=None,\n",
              "              early_stopping=False, epsilon=0.1, eta0=0.0, fit_intercept=True,\n",
              "              l1_ratio=0.15, learning_rate='optimal', loss='hinge',\n",
              "              max_iter=1000, n_iter_no_change=5, n_jobs=None, penalty='l2',\n",
              "              power_t=0.5, random_state=0, shuffle=True, tol=0.001,\n",
              "              validation_fraction=0.1, verbose=0, warm_start=False)"
            ]
          },
          "metadata": {
            "tags": []
          },
          "execution_count": 31
        }
      ]
    },
    {
      "cell_type": "code",
      "metadata": {
        "colab": {
          "base_uri": "https://localhost:8080/",
          "height": 727
        },
        "id": "X69fGmN5bHTN",
        "outputId": "83449451-5bfd-47c2-da09-7adf7224bc59"
      },
      "source": [
        "#si entrenamos con este best model que nos queda?\n",
        "\n",
        "y_predict_train = best_model.predict(X_train)\n",
        "y_predict_test = best_model.predict(X_test)\n",
        "\n",
        "\n",
        "print('Reporte de clasificacion del conjunto de test: ')\n",
        "print('')\n",
        "print(classification_report(y_test, y_predict_test, target_names=names))\n",
        "print('Reporte de clasificacion del conjunto de training: ')\n",
        "print('')\n",
        "print(classification_report(y_train, y_predict_train, target_names=names))\n",
        "\n",
        "print(confusion_matrix(y_test, y_predict_test))\n",
        "#print(confusion_matrix(y_train, y_predict_train))\n",
        "\n",
        "sn.heatmap(confusion_matrix(y_test, y_predict_test),annot=True)\n",
        "plt.title('Matriz de Confusion de Clasificador SGD con ParameterGrid',fontsize=15)"
      ],
      "execution_count": null,
      "outputs": [
        {
          "output_type": "stream",
          "text": [
            "Reporte de clasificacion del conjunto de test: \n",
            "\n",
            "                 precision    recall  f1-score   support\n",
            "\n",
            "Cliente Pagador       0.88      1.00      0.94       313\n",
            " Cliente Deudor       1.00      0.29      0.45        58\n",
            "\n",
            "       accuracy                           0.89       371\n",
            "      macro avg       0.94      0.65      0.70       371\n",
            "   weighted avg       0.90      0.89      0.86       371\n",
            "\n",
            "Reporte de clasificacion del conjunto de training: \n",
            "\n",
            "                 precision    recall  f1-score   support\n",
            "\n",
            "Cliente Pagador       0.87      1.00      0.93      1232\n",
            " Cliente Deudor       0.92      0.27      0.42       251\n",
            "\n",
            "       accuracy                           0.87      1483\n",
            "      macro avg       0.90      0.64      0.68      1483\n",
            "   weighted avg       0.88      0.87      0.84      1483\n",
            "\n",
            "[[313   0]\n",
            " [ 41  17]]\n"
          ],
          "name": "stdout"
        },
        {
          "output_type": "execute_result",
          "data": {
            "text/plain": [
              "Text(0.5, 1.0, 'Matriz de Confusion de Clasificador SGD con ParameterGrid')"
            ]
          },
          "metadata": {
            "tags": []
          },
          "execution_count": 32
        },
        {
          "output_type": "display_data",
          "data": {
            "image/png": "[encoded data removed]",
            "text/plain": [
              "<Figure size 432x288 with 2 Axes>"
            ]
          },
          "metadata": {
            "tags": [],
            "needs_background": "light"
          }
        }
      ]
    },
    {
      "cell_type": "markdown",
      "metadata": {
        "id": "NYGIjQqZfSLD"
      },
      "source": [
        "Bueno, acá observamos mejoras en la matriz de confusion, lo cual ya se intuia de los valores de las metricas. Por un lado, vemos que los True Positives son 313, es decir, el modelo predijo correctamente los 313 clientes pagadores. Tmb mejoró el valor de los TN, el modelo predijo 17 deudores (antes habiamos predicho solo 9). No hubo FP y si bien disminuyó el numero de FN, ahora son 41 y antes 49, sigue siendo elevado el numero de clientes morosos que no estamos prediciendo. "
      ]
    },
    {
      "cell_type": "markdown",
      "metadata": {
        "id": "81pjMe_UZLA_"
      },
      "source": [
        "Intentaremos mejorar aun mas el modelo. Para ello, podemos tambien emplear GridSearchCV para hacer validacion cruzada sobre una grilla de parametros (la grilla ya empleada anteriormente). Emplearemos como scoring la accuracy para evaluar la performance de cada modelo y cv=5. \n"
      ]
    },
    {
      "cell_type": "code",
      "metadata": {
        "colab": {
          "base_uri": "https://localhost:8080/"
        },
        "id": "LDExN7fWhNXm",
        "outputId": "f2d4e4d3-54be-4c86-cc18-0dadb3de665f"
      },
      "source": [
        "model = SGDClassifier(random_state=0)\n",
        "\n",
        "best_model_cv = GridSearchCV(model, param_grid, scoring='accuracy', cv=5)\n",
        "#xq usar accuracy como scoring si sabemos que no estan balanceadas las clases?\n",
        "# y xq si usamos \"recall_weighted\", la cosa da fea igual?\n",
        "best_model_cv.fit(X_train, y_train)\n",
        "\n",
        "y_predict_train = best_model_cv.predict(X_train)\n",
        "y_predict_test = best_model_cv.predict(X_test)\n",
        "\n",
        "print('Reporte de clasificacion del conjunto de test: ')\n",
        "print('')\n",
        "print(classification_report(y_test, y_predict_test, target_names=names))\n",
        "print('Reporte de clasificacion del conjunto de training: ')\n",
        "print('')\n",
        "print(classification_report(y_train, y_predict_train, target_names=names))\n"
      ],
      "execution_count": null,
      "outputs": [
        {
          "output_type": "stream",
          "text": [
            "Reporte de clasificacion del conjunto de test: \n",
            "\n",
            "                 precision    recall  f1-score   support\n",
            "\n",
            "Cliente Pagador       0.88      0.98      0.93       313\n",
            " Cliente Deudor       0.74      0.24      0.36        58\n",
            "\n",
            "       accuracy                           0.87       371\n",
            "      macro avg       0.81      0.61      0.64       371\n",
            "   weighted avg       0.85      0.87      0.84       371\n",
            "\n",
            "Reporte de clasificacion del conjunto de training: \n",
            "\n",
            "                 precision    recall  f1-score   support\n",
            "\n",
            "Cliente Pagador       0.87      0.99      0.93      1232\n",
            " Cliente Deudor       0.85      0.29      0.44       251\n",
            "\n",
            "       accuracy                           0.87      1483\n",
            "      macro avg       0.86      0.64      0.68      1483\n",
            "   weighted avg       0.87      0.87      0.84      1483\n",
            "\n"
          ],
          "name": "stdout"
        }
      ]
    },
    {
      "cell_type": "code",
      "metadata": {
        "colab": {
          "base_uri": "https://localhost:8080/",
          "height": 336
        },
        "id": "nLTqN7lZAEMX",
        "outputId": "ca21c13a-a1fb-411b-f500-bfd39706049a"
      },
      "source": [
        "print(confusion_matrix(y_test, y_predict_test))\n",
        "#print(confusion_matrix(y_train, y_predict_train))\n",
        "\n",
        "sn.heatmap(confusion_matrix(y_test, y_predict_test),annot=True)\n",
        "plt.title('Matriz de Confusion de Clasificador SGD con Cross-Validation',fontsize=15)"
      ],
      "execution_count": null,
      "outputs": [
        {
          "output_type": "stream",
          "text": [
            "[[308   5]\n",
            " [ 44  14]]\n"
          ],
          "name": "stdout"
        },
        {
          "output_type": "execute_result",
          "data": {
            "text/plain": [
              "Text(0.5, 1.0, 'Matriz de Confusion de Clasificador SGD con Cross-Validation')"
            ]
          },
          "metadata": {
            "tags": []
          },
          "execution_count": 34
        },
        {
          "output_type": "display_data",
          "data": {
            "image/png": "[encoded data removed]",
            "text/plain": [
              "<Figure size 432x288 with 2 Axes>"
            ]
          },
          "metadata": {
            "tags": [],
            "needs_background": "light"
          }
        }
      ]
    },
    {
      "cell_type": "markdown",
      "metadata": {
        "id": "uuGy9pcnispL"
      },
      "source": [
        "Bueno, vemos que la situacion empeoró aunque no sabemos si eso debia ocurrir. TN que antes se predecian bien pasaron a ser FP, el numero de FN (lo mas grave: predecir que un cliente va a pagar cuando no) aumentó y disminuyo el numero de TP.\n",
        "Qué pasa entonces si en vez de usar la accuracy como scoring, usamos recall????\n"
      ]
    },
    {
      "cell_type": "code",
      "metadata": {
        "colab": {
          "base_uri": "https://localhost:8080/",
          "height": 727
        },
        "id": "OPAd1n5qgrnn",
        "outputId": "54a2fcaf-5a17-4f6c-c35a-40eb7659af5b"
      },
      "source": [
        "model = SGDClassifier(random_state=0)\n",
        "\n",
        "best_model_cv = GridSearchCV(model, param_grid, scoring='recall', cv=5)\n",
        "#xq usar accuracy como scoring si sabemos que no estan balanceadas las clases?\n",
        "# y xq si usamos \"recall_weighted\", la cosa da fea igual?\n",
        "best_model_cv.fit(X_train, y_train)\n",
        "\n",
        "y_predict_train = best_model_cv.predict(X_train)\n",
        "y_predict_test = best_model_cv.predict(X_test)\n",
        "\n",
        "print('Reporte de clasificacion del conjunto de test: ')\n",
        "print('')\n",
        "print(classification_report(y_test, y_predict_test, target_names=names))\n",
        "print('Reporte de clasificacion del conjunto de training: ')\n",
        "print('')\n",
        "print(classification_report(y_train, y_predict_train, target_names=names))\n",
        "\n",
        "print(confusion_matrix(y_test, y_predict_test))\n",
        "#print(confusion_matrix(y_train, y_predict_train))\n",
        "\n",
        "sn.heatmap(confusion_matrix(y_test, y_predict_test),annot=True)\n",
        "plt.title('Matriz de Confusion de Clasificador SGD con CV and recall',fontsize=15)\n"
      ],
      "execution_count": null,
      "outputs": [
        {
          "output_type": "stream",
          "text": [
            "Reporte de clasificacion del conjunto de test: \n",
            "\n",
            "                 precision    recall  f1-score   support\n",
            "\n",
            "Cliente Pagador       0.83      0.66      0.74       313\n",
            " Cliente Deudor       0.14      0.29      0.19        58\n",
            "\n",
            "       accuracy                           0.60       371\n",
            "      macro avg       0.49      0.48      0.46       371\n",
            "   weighted avg       0.73      0.60      0.65       371\n",
            "\n",
            "Reporte de clasificacion del conjunto de training: \n",
            "\n",
            "                 precision    recall  f1-score   support\n",
            "\n",
            "Cliente Pagador       0.84      0.64      0.73      1232\n",
            " Cliente Deudor       0.18      0.38      0.24       251\n",
            "\n",
            "       accuracy                           0.60      1483\n",
            "      macro avg       0.51      0.51      0.49      1483\n",
            "   weighted avg       0.72      0.60      0.64      1483\n",
            "\n",
            "[[206 107]\n",
            " [ 41  17]]\n"
          ],
          "name": "stdout"
        },
        {
          "output_type": "execute_result",
          "data": {
            "text/plain": [
              "Text(0.5, 1.0, 'Matriz de Confusion de Clasificador SGD con CV and recall')"
            ]
          },
          "metadata": {
            "tags": []
          },
          "execution_count": 35
        },
        {
          "output_type": "display_data",
          "data": {
            "image/png": "[encoded data removed]",
            "text/plain": [
              "<Figure size 432x288 with 2 Axes>"
            ]
          },
          "metadata": {
            "tags": [],
            "needs_background": "light"
          }
        }
      ]
    },
    {
      "cell_type": "markdown",
      "metadata": {
        "id": "kA57AqlSu8U7"
      },
      "source": [
        "Mejora la recall relacionada con la clase cliente deudor pero empeora considerablemente la situacion con la clase cliente pagador. "
      ]
    },
    {
      "cell_type": "markdown",
      "metadata": {
        "id": "2vvdeod5kVuf"
      },
      "source": [
        "A continuacion haremos lo mismo que antes solo que usaremos como clasificador, un arbol de decision. "
      ]
    },
    {
      "cell_type": "markdown",
      "metadata": {
        "id": "YoD_7sBUFdyR"
      },
      "source": [
        "## Ejercicio 3: Árboles de Decisión\n",
        "\n",
        "En este ejercicio se entrenarán árboles de decisión para predecir la variable objetivo.\n",
        "\n",
        "Para ello, deberán utilizar la clase DecisionTreeClassifier de scikit-learn.\n",
        "\n",
        "Documentación:\n",
        "- https://scikit-learn.org/stable/modules/tree.html\n",
        "  - https://scikit-learn.org/stable/modules/tree.html#tips-on-practical-use\n",
        "- https://scikit-learn.org/stable/modules/generated/sklearn.tree.DecisionTreeClassifier.html\n",
        "- https://scikit-learn.org/stable/auto_examples/tree/plot_unveil_tree_structure.html"
      ]
    },
    {
      "cell_type": "markdown",
      "metadata": {
        "id": "SMMde4LoFdyR"
      },
      "source": [
        "### Ejercicio 3.1: DecisionTreeClassifier con hiperparámetros por defecto\n",
        "\n",
        "Entrenar y evaluar el clasificador DecisionTreeClassifier usando los valores por omisión de scikit-learn para todos los parámetros. Únicamente **fijar la semilla aleatoria** para hacer repetible el experimento.\n",
        "\n",
        "Evaluar sobre el conjunto de **entrenamiento** y sobre el conjunto de **evaluación**, reportando:\n",
        "- Accuracy\n",
        "- Precision\n",
        "- Recall\n",
        "- F1\n",
        "- matriz de confusión\n"
      ]
    },
    {
      "cell_type": "code",
      "metadata": {
        "colab": {
          "base_uri": "https://localhost:8080/"
        },
        "id": "T0GuOQrSBz-L",
        "outputId": "aae8aa2e-4203-469d-a615-3d700f148194"
      },
      "source": [
        "clf = DecisionTreeClassifier(random_state=0)\n",
        "clf.fit(X_train, y_train)"
      ],
      "execution_count": null,
      "outputs": [
        {
          "output_type": "execute_result",
          "data": {
            "text/plain": [
              "DecisionTreeClassifier(ccp_alpha=0.0, class_weight=None, criterion='gini',\n",
              "                       max_depth=None, max_features=None, max_leaf_nodes=None,\n",
              "                       min_impurity_decrease=0.0, min_impurity_split=None,\n",
              "                       min_samples_leaf=1, min_samples_split=2,\n",
              "                       min_weight_fraction_leaf=0.0, presort='deprecated',\n",
              "                       random_state=0, splitter='best')"
            ]
          },
          "metadata": {
            "tags": []
          },
          "execution_count": 36
        }
      ]
    },
    {
      "cell_type": "code",
      "metadata": {
        "colab": {
          "base_uri": "https://localhost:8080/",
          "height": 727
        },
        "id": "6nMfcQZiB_3N",
        "outputId": "1f43850c-c39d-4fae-b98f-73ebae1664cc"
      },
      "source": [
        "y_predict_train = clf.predict(X_train)\n",
        "y_predict_test = clf.predict(X_test)\n",
        "\n",
        "print('Reporte de clasificacion del conjunto de test: ')\n",
        "print('')\n",
        "print(classification_report(y_test, y_predict_test, target_names=names))\n",
        "print('Reporte de clasificacion del conjunto de training: ')\n",
        "print('')\n",
        "print(classification_report(y_train, y_predict_train, target_names=names))\n",
        "\n",
        "print(confusion_matrix(y_test, y_predict_test))\n",
        "sn.heatmap(confusion_matrix(y_test, y_predict_test),annot=True)\n",
        "plt.title('Matriz de Confusion de Clasificador Decision Tree por defecto',fontsize=15)"
      ],
      "execution_count": null,
      "outputs": [
        {
          "output_type": "stream",
          "text": [
            "Reporte de clasificacion del conjunto de test: \n",
            "\n",
            "                 precision    recall  f1-score   support\n",
            "\n",
            "Cliente Pagador       0.93      0.93      0.93       313\n",
            " Cliente Deudor       0.62      0.64      0.63        58\n",
            "\n",
            "       accuracy                           0.88       371\n",
            "      macro avg       0.77      0.78      0.78       371\n",
            "   weighted avg       0.88      0.88      0.88       371\n",
            "\n",
            "Reporte de clasificacion del conjunto de training: \n",
            "\n",
            "                 precision    recall  f1-score   support\n",
            "\n",
            "Cliente Pagador       1.00      1.00      1.00      1232\n",
            " Cliente Deudor       1.00      1.00      1.00       251\n",
            "\n",
            "       accuracy                           1.00      1483\n",
            "      macro avg       1.00      1.00      1.00      1483\n",
            "   weighted avg       1.00      1.00      1.00      1483\n",
            "\n",
            "[[290  23]\n",
            " [ 21  37]]\n"
          ],
          "name": "stdout"
        },
        {
          "output_type": "execute_result",
          "data": {
            "text/plain": [
              "Text(0.5, 1.0, 'Matriz de Confusion de Clasificador Decision Tree por defecto')"
            ]
          },
          "metadata": {
            "tags": []
          },
          "execution_count": 37
        },
        {
          "output_type": "display_data",
          "data": {
            "image/png": "[encoded data removed]",
            "text/plain": [
              "<Figure size 432x288 with 2 Axes>"
            ]
          },
          "metadata": {
            "tags": [],
            "needs_background": "light"
          }
        }
      ]
    },
    {
      "cell_type": "markdown",
      "metadata": {
        "id": "DVdT88nwkqbe"
      },
      "source": [
        "Bueno, vemos que haciendo uso del clasificador con los valores por defecto, obtenemos un modelo con una accuracy del 88%. Lo más importante, la recall para la clase cliente deudor ha aumentado mucho. \n",
        "Esto significa que el modelo es capaz de predecir a los clientes deudores mucho mejor. Ahora se predicen 37 de los 58 clientes morosos. Han disminuido los FN a 21, lo cual es muy bueno y si bien tenemos mas FP que antes se predecian correctamente como TN, no es un error tan grave. "
      ]
    },
    {
      "cell_type": "markdown",
      "metadata": {
        "id": "kptKpUs7nWch"
      },
      "source": [
        "Veamos si ajustando los hiperparametros, mejora la cosa. "
      ]
    },
    {
      "cell_type": "markdown",
      "metadata": {
        "id": "hWM-q3J2FdyR"
      },
      "source": [
        "### Ejercicio 3.2: Ajuste de Hiperparámetros\n",
        "\n",
        "Seleccionar valores para los hiperparámetros principales del DecisionTreeClassifier. Como mínimo, probar diferentes criterios de partición (criterion), profundidad máxima del árbol (max_depth), y cantidad mínima de samples por hoja (min_samples_leaf).\n",
        "\n",
        "Para ello, usar grid-search y 5-fold cross-validation sobre el conjunto de entrenamiento para explorar muchas combinaciones posibles de valores.\n",
        "\n",
        "Reportar accuracy promedio y varianza para todas las configuraciones.\n",
        "\n",
        "Para la mejor configuración encontrada, evaluar sobre el conjunto de **entrenamiento** y sobre el conjunto de **evaluación**, reportando:\n",
        "- Accuracy\n",
        "- Precision\n",
        "- Recall\n",
        "- F1\n",
        "- matriz de confusión\n",
        "\n",
        "\n",
        "Documentación:\n",
        "- https://scikit-learn.org/stable/modules/grid_search.html\n",
        "- https://scikit-learn.org/stable/modules/generated/sklearn.model_selection.GridSearchCV.html"
      ]
    },
    {
      "cell_type": "code",
      "metadata": {
        "colab": {
          "base_uri": "https://localhost:8080/"
        },
        "id": "Ezw53l0qEqeO",
        "outputId": "5fbb579b-723c-4ca1-9341-3eef70f3aae8"
      },
      "source": [
        "param_grid = {\n",
        "    'criterion': ['entropy','gini'],\n",
        "    'max_depth': [None,2,5,10,50,100],\n",
        "    'min_samples_split' : [2,3,8,19]\n",
        "}\n",
        "\n",
        "prev_accuracy_score = 0\n",
        "for params in ParameterGrid(param_grid):\n",
        "    model = DecisionTreeClassifier(**params, random_state=0)\n",
        "    model.fit(X_train, y_train)\n",
        "    y_predict_test = model.predict(X_test)\n",
        "    accuracy = accuracy_score(y_test, y_predict_test, normalize=True)\n",
        "    variance = explained_variance_score(y_test, y_predict_test, multioutput='uniform_average')\n",
        "    print()\n",
        "    print('Classification Report: ')\n",
        "    print(classification_report(y_test, y_predict_test))\n",
        "    print('Params: ',params)\n",
        "    print('Accuracy: ', accuracy,' Variance: ', variance)\n",
        "    print()\n",
        "    if accuracy > prev_accuracy_score:\n",
        "      best_model = model\n",
        "      prev_accuracy_score = accuracy\n",
        "      best_params = params\n",
        "      best_variance = variance\n",
        "\n",
        "print(best_model, prev_accuracy_score, best_params, best_variance)"
      ],
      "execution_count": null,
      "outputs": [
        {
          "output_type": "stream",
          "text": [
            "\n",
            "Classification Report: \n",
            "              precision    recall  f1-score   support\n",
            "\n",
            "           0       0.94      0.94      0.94       313\n",
            "           1       0.66      0.66      0.66        58\n",
            "\n",
            "    accuracy                           0.89       371\n",
            "   macro avg       0.80      0.80      0.80       371\n",
            "weighted avg       0.89      0.89      0.89       371\n",
            "\n",
            "Params:  {'criterion': 'entropy', 'max_depth': None, 'min_samples_split': 2}\n",
            "Accuracy:  0.8921832884097035  Variance:  0.1825493004296571\n",
            "\n",
            "\n",
            "Classification Report: \n",
            "              precision    recall  f1-score   support\n",
            "\n",
            "           0       0.93      0.93      0.93       313\n",
            "           1       0.62      0.64      0.63        58\n",
            "\n",
            "    accuracy                           0.88       371\n",
            "   macro avg       0.77      0.78      0.78       371\n",
            "weighted avg       0.88      0.88      0.88       371\n",
            "\n",
            "Params:  {'criterion': 'entropy', 'max_depth': None, 'min_samples_split': 3}\n",
            "Accuracy:  0.8814016172506739  Variance:  0.10102456758840983\n",
            "\n",
            "\n",
            "Classification Report: \n",
            "              precision    recall  f1-score   support\n",
            "\n",
            "           0       0.93      0.93      0.93       313\n",
            "           1       0.61      0.62      0.62        58\n",
            "\n",
            "    accuracy                           0.88       371\n",
            "   macro avg       0.77      0.77      0.77       371\n",
            "weighted avg       0.88      0.88      0.88       371\n",
            "\n",
            "Params:  {'criterion': 'entropy', 'max_depth': None, 'min_samples_split': 8}\n",
            "Accuracy:  0.8787061994609164  Variance:  0.08042304726231142\n",
            "\n",
            "\n",
            "Classification Report: \n",
            "              precision    recall  f1-score   support\n",
            "\n",
            "           0       0.92      0.95      0.93       313\n",
            "           1       0.65      0.53      0.58        58\n",
            "\n",
            "    accuracy                           0.88       371\n",
            "   macro avg       0.78      0.74      0.76       371\n",
            "weighted avg       0.87      0.88      0.88       371\n",
            "\n",
            "Params:  {'criterion': 'entropy', 'max_depth': None, 'min_samples_split': 19}\n",
            "Accuracy:  0.8814016172506739  Variance:  0.10631265836730153\n",
            "\n",
            "\n",
            "Classification Report: \n",
            "              precision    recall  f1-score   support\n",
            "\n",
            "           0       0.88      0.99      0.93       313\n",
            "           1       0.85      0.29      0.44        58\n",
            "\n",
            "    accuracy                           0.88       371\n",
            "   macro avg       0.87      0.64      0.68       371\n",
            "weighted avg       0.88      0.88      0.86       371\n",
            "\n",
            "Params:  {'criterion': 'entropy', 'max_depth': 2, 'min_samples_split': 2}\n",
            "Accuracy:  0.8814016172506739  Variance:  0.1803459292717856\n",
            "\n",
            "\n",
            "Classification Report: \n",
            "              precision    recall  f1-score   support\n",
            "\n",
            "           0       0.88      0.99      0.93       313\n",
            "           1       0.85      0.29      0.44        58\n",
            "\n",
            "    accuracy                           0.88       371\n",
            "   macro avg       0.87      0.64      0.68       371\n",
            "weighted avg       0.88      0.88      0.86       371\n",
            "\n",
            "Params:  {'criterion': 'entropy', 'max_depth': 2, 'min_samples_split': 3}\n",
            "Accuracy:  0.8814016172506739  Variance:  0.1803459292717856\n",
            "\n",
            "\n",
            "Classification Report: \n",
            "              precision    recall  f1-score   support\n",
            "\n",
            "           0       0.88      0.99      0.93       313\n",
            "           1       0.85      0.29      0.44        58\n",
            "\n",
            "    accuracy                           0.88       371\n",
            "   macro avg       0.87      0.64      0.68       371\n",
            "weighted avg       0.88      0.88      0.86       371\n",
            "\n",
            "Params:  {'criterion': 'entropy', 'max_depth': 2, 'min_samples_split': 8}\n",
            "Accuracy:  0.8814016172506739  Variance:  0.1803459292717856\n",
            "\n",
            "\n",
            "Classification Report: \n",
            "              precision    recall  f1-score   support\n",
            "\n",
            "           0       0.88      0.99      0.93       313\n",
            "           1       0.85      0.29      0.44        58\n",
            "\n",
            "    accuracy                           0.88       371\n",
            "   macro avg       0.87      0.64      0.68       371\n",
            "weighted avg       0.88      0.88      0.86       371\n",
            "\n",
            "Params:  {'criterion': 'entropy', 'max_depth': 2, 'min_samples_split': 19}\n",
            "Accuracy:  0.8814016172506739  Variance:  0.1803459292717856\n",
            "\n",
            "\n",
            "Classification Report: \n",
            "              precision    recall  f1-score   support\n",
            "\n",
            "           0       0.90      0.98      0.94       313\n",
            "           1       0.79      0.40      0.53        58\n",
            "\n",
            "    accuracy                           0.89       371\n",
            "   macro avg       0.85      0.69      0.73       371\n",
            "weighted avg       0.88      0.89      0.87       371\n",
            "\n",
            "Params:  {'criterion': 'entropy', 'max_depth': 5, 'min_samples_split': 2}\n",
            "Accuracy:  0.889487870619946  Variance:  0.20843891153464789\n",
            "\n",
            "\n",
            "Classification Report: \n",
            "              precision    recall  f1-score   support\n",
            "\n",
            "           0       0.90      0.98      0.94       313\n",
            "           1       0.79      0.40      0.53        58\n",
            "\n",
            "    accuracy                           0.89       371\n",
            "   macro avg       0.85      0.69      0.73       371\n",
            "weighted avg       0.88      0.89      0.87       371\n",
            "\n",
            "Params:  {'criterion': 'entropy', 'max_depth': 5, 'min_samples_split': 3}\n",
            "Accuracy:  0.889487870619946  Variance:  0.20843891153464789\n",
            "\n",
            "\n",
            "Classification Report: \n",
            "              precision    recall  f1-score   support\n",
            "\n",
            "           0       0.90      0.98      0.94       313\n",
            "           1       0.79      0.40      0.53        58\n",
            "\n",
            "    accuracy                           0.89       371\n",
            "   macro avg       0.85      0.69      0.73       371\n",
            "weighted avg       0.88      0.89      0.87       371\n",
            "\n",
            "Params:  {'criterion': 'entropy', 'max_depth': 5, 'min_samples_split': 8}\n",
            "Accuracy:  0.889487870619946  Variance:  0.20843891153464789\n",
            "\n",
            "\n",
            "Classification Report: \n",
            "              precision    recall  f1-score   support\n",
            "\n",
            "           0       0.90      0.98      0.94       313\n",
            "           1       0.79      0.38      0.51        58\n",
            "\n",
            "    accuracy                           0.89       371\n",
            "   macro avg       0.84      0.68      0.72       371\n",
            "weighted avg       0.88      0.89      0.87       371\n",
            "\n",
            "Params:  {'criterion': 'entropy', 'max_depth': 5, 'min_samples_split': 19}\n",
            "Accuracy:  0.8867924528301887  Variance:  0.19125261650324954\n",
            "\n",
            "\n",
            "Classification Report: \n",
            "              precision    recall  f1-score   support\n",
            "\n",
            "           0       0.92      0.95      0.94       313\n",
            "           1       0.68      0.55      0.61        58\n",
            "\n",
            "    accuracy                           0.89       371\n",
            "   macro avg       0.80      0.75      0.77       371\n",
            "weighted avg       0.88      0.89      0.88       371\n",
            "\n",
            "Params:  {'criterion': 'entropy', 'max_depth': 10, 'min_samples_split': 2}\n",
            "Accuracy:  0.889487870619946  Variance:  0.16877823069295994\n",
            "\n",
            "\n",
            "Classification Report: \n",
            "              precision    recall  f1-score   support\n",
            "\n",
            "           0       0.92      0.96      0.94       313\n",
            "           1       0.72      0.57      0.63        58\n",
            "\n",
            "    accuracy                           0.90       371\n",
            "   macro avg       0.82      0.76      0.79       371\n",
            "weighted avg       0.89      0.90      0.89       371\n",
            "\n",
            "Params:  {'criterion': 'entropy', 'max_depth': 10, 'min_samples_split': 3}\n",
            "Accuracy:  0.8975741239892183  Variance:  0.23135397157651194\n",
            "\n",
            "\n",
            "Classification Report: \n",
            "              precision    recall  f1-score   support\n",
            "\n",
            "           0       0.92      0.96      0.94       313\n",
            "           1       0.70      0.55      0.62        58\n",
            "\n",
            "    accuracy                           0.89       371\n",
            "   macro avg       0.81      0.75      0.78       371\n",
            "weighted avg       0.88      0.89      0.89       371\n",
            "\n",
            "Params:  {'criterion': 'entropy', 'max_depth': 10, 'min_samples_split': 8}\n",
            "Accuracy:  0.8921832884097035  Variance:  0.19048143659799477\n",
            "\n",
            "\n",
            "Classification Report: \n",
            "              precision    recall  f1-score   support\n",
            "\n",
            "           0       0.91      0.96      0.94       313\n",
            "           1       0.72      0.48      0.58        58\n",
            "\n",
            "    accuracy                           0.89       371\n",
            "   macro avg       0.81      0.72      0.76       371\n",
            "weighted avg       0.88      0.89      0.88       371\n",
            "\n",
            "Params:  {'criterion': 'entropy', 'max_depth': 10, 'min_samples_split': 19}\n",
            "Accuracy:  0.889487870619946  Variance:  0.1819984576401893\n",
            "\n",
            "\n",
            "Classification Report: \n",
            "              precision    recall  f1-score   support\n",
            "\n",
            "           0       0.94      0.94      0.94       313\n",
            "           1       0.66      0.66      0.66        58\n",
            "\n",
            "    accuracy                           0.89       371\n",
            "   macro avg       0.80      0.80      0.80       371\n",
            "weighted avg       0.89      0.89      0.89       371\n",
            "\n",
            "Params:  {'criterion': 'entropy', 'max_depth': 50, 'min_samples_split': 2}\n",
            "Accuracy:  0.8921832884097035  Variance:  0.1825493004296571\n",
            "\n",
            "\n",
            "Classification Report: \n",
            "              precision    recall  f1-score   support\n",
            "\n",
            "           0       0.93      0.93      0.93       313\n",
            "           1       0.62      0.64      0.63        58\n",
            "\n",
            "    accuracy                           0.88       371\n",
            "   macro avg       0.77      0.78      0.78       371\n",
            "weighted avg       0.88      0.88      0.88       371\n",
            "\n",
            "Params:  {'criterion': 'entropy', 'max_depth': 50, 'min_samples_split': 3}\n",
            "Accuracy:  0.8814016172506739  Variance:  0.10102456758840983\n",
            "\n",
            "\n",
            "Classification Report: \n",
            "              precision    recall  f1-score   support\n",
            "\n",
            "           0       0.93      0.93      0.93       313\n",
            "           1       0.61      0.62      0.62        58\n",
            "\n",
            "    accuracy                           0.88       371\n",
            "   macro avg       0.77      0.77      0.77       371\n",
            "weighted avg       0.88      0.88      0.88       371\n",
            "\n",
            "Params:  {'criterion': 'entropy', 'max_depth': 50, 'min_samples_split': 8}\n",
            "Accuracy:  0.8787061994609164  Variance:  0.08042304726231142\n",
            "\n",
            "\n",
            "Classification Report: \n",
            "              precision    recall  f1-score   support\n",
            "\n",
            "           0       0.92      0.95      0.93       313\n",
            "           1       0.65      0.53      0.58        58\n",
            "\n",
            "    accuracy                           0.88       371\n",
            "   macro avg       0.78      0.74      0.76       371\n",
            "weighted avg       0.87      0.88      0.88       371\n",
            "\n",
            "Params:  {'criterion': 'entropy', 'max_depth': 50, 'min_samples_split': 19}\n",
            "Accuracy:  0.8814016172506739  Variance:  0.10631265836730153\n",
            "\n",
            "\n",
            "Classification Report: \n",
            "              precision    recall  f1-score   support\n",
            "\n",
            "           0       0.94      0.94      0.94       313\n",
            "           1       0.66      0.66      0.66        58\n",
            "\n",
            "    accuracy                           0.89       371\n",
            "   macro avg       0.80      0.80      0.80       371\n",
            "weighted avg       0.89      0.89      0.89       371\n",
            "\n",
            "Params:  {'criterion': 'entropy', 'max_depth': 100, 'min_samples_split': 2}\n",
            "Accuracy:  0.8921832884097035  Variance:  0.1825493004296571\n",
            "\n",
            "\n",
            "Classification Report: \n",
            "              precision    recall  f1-score   support\n",
            "\n",
            "           0       0.93      0.93      0.93       313\n",
            "           1       0.62      0.64      0.63        58\n",
            "\n",
            "    accuracy                           0.88       371\n",
            "   macro avg       0.77      0.78      0.78       371\n",
            "weighted avg       0.88      0.88      0.88       371\n",
            "\n",
            "Params:  {'criterion': 'entropy', 'max_depth': 100, 'min_samples_split': 3}\n",
            "Accuracy:  0.8814016172506739  Variance:  0.10102456758840983\n",
            "\n",
            "\n",
            "Classification Report: \n",
            "              precision    recall  f1-score   support\n",
            "\n",
            "           0       0.93      0.93      0.93       313\n",
            "           1       0.61      0.62      0.62        58\n",
            "\n",
            "    accuracy                           0.88       371\n",
            "   macro avg       0.77      0.77      0.77       371\n",
            "weighted avg       0.88      0.88      0.88       371\n",
            "\n",
            "Params:  {'criterion': 'entropy', 'max_depth': 100, 'min_samples_split': 8}\n",
            "Accuracy:  0.8787061994609164  Variance:  0.08042304726231142\n",
            "\n",
            "\n",
            "Classification Report: \n",
            "              precision    recall  f1-score   support\n",
            "\n",
            "           0       0.92      0.95      0.93       313\n",
            "           1       0.65      0.53      0.58        58\n",
            "\n",
            "    accuracy                           0.88       371\n",
            "   macro avg       0.78      0.74      0.76       371\n",
            "weighted avg       0.87      0.88      0.88       371\n",
            "\n",
            "Params:  {'criterion': 'entropy', 'max_depth': 100, 'min_samples_split': 19}\n",
            "Accuracy:  0.8814016172506739  Variance:  0.10631265836730153\n",
            "\n",
            "\n",
            "Classification Report: \n",
            "              precision    recall  f1-score   support\n",
            "\n",
            "           0       0.93      0.93      0.93       313\n",
            "           1       0.62      0.64      0.63        58\n",
            "\n",
            "    accuracy                           0.88       371\n",
            "   macro avg       0.77      0.78      0.78       371\n",
            "weighted avg       0.88      0.88      0.88       371\n",
            "\n",
            "Params:  {'criterion': 'gini', 'max_depth': None, 'min_samples_split': 2}\n",
            "Accuracy:  0.8814016172506739  Variance:  0.10102456758840983\n",
            "\n",
            "\n",
            "Classification Report: \n",
            "              precision    recall  f1-score   support\n",
            "\n",
            "           0       0.92      0.94      0.93       313\n",
            "           1       0.64      0.59      0.61        58\n",
            "\n",
            "    accuracy                           0.88       371\n",
            "   macro avg       0.78      0.76      0.77       371\n",
            "weighted avg       0.88      0.88      0.88       371\n",
            "\n",
            "Params:  {'criterion': 'gini', 'max_depth': None, 'min_samples_split': 3}\n",
            "Accuracy:  0.8840970350404312  Variance:  0.1226176049355514\n",
            "\n",
            "\n",
            "Classification Report: \n",
            "              precision    recall  f1-score   support\n",
            "\n",
            "           0       0.92      0.94      0.93       313\n",
            "           1       0.65      0.59      0.62        58\n",
            "\n",
            "    accuracy                           0.89       371\n",
            "   macro avg       0.79      0.76      0.78       371\n",
            "weighted avg       0.88      0.89      0.88       371\n",
            "\n",
            "Params:  {'criterion': 'gini', 'max_depth': None, 'min_samples_split': 8}\n",
            "Accuracy:  0.8867924528301887  Variance:  0.14365979949322416\n",
            "\n",
            "\n",
            "Classification Report: \n",
            "              precision    recall  f1-score   support\n",
            "\n",
            "           0       0.92      0.97      0.94       313\n",
            "           1       0.75      0.52      0.61        58\n",
            "\n",
            "    accuracy                           0.90       371\n",
            "   macro avg       0.83      0.74      0.78       371\n",
            "weighted avg       0.89      0.90      0.89       371\n",
            "\n",
            "Params:  {'criterion': 'gini', 'max_depth': None, 'min_samples_split': 19}\n",
            "Accuracy:  0.8975741239892183  Variance:  0.24126914178693382\n",
            "\n",
            "\n",
            "Classification Report: \n",
            "              precision    recall  f1-score   support\n",
            "\n",
            "           0       0.88      1.00      0.94       313\n",
            "           1       0.94      0.28      0.43        58\n",
            "\n",
            "    accuracy                           0.88       371\n",
            "   macro avg       0.91      0.64      0.68       371\n",
            "weighted avg       0.89      0.88      0.86       371\n",
            "\n",
            "Params:  {'criterion': 'gini', 'max_depth': 2, 'min_samples_split': 2}\n",
            "Accuracy:  0.8840970350404312  Variance:  0.21383717087143317\n",
            "\n",
            "\n",
            "Classification Report: \n",
            "              precision    recall  f1-score   support\n",
            "\n",
            "           0       0.88      1.00      0.94       313\n",
            "           1       0.94      0.28      0.43        58\n",
            "\n",
            "    accuracy                           0.88       371\n",
            "   macro avg       0.91      0.64      0.68       371\n",
            "weighted avg       0.89      0.88      0.86       371\n",
            "\n",
            "Params:  {'criterion': 'gini', 'max_depth': 2, 'min_samples_split': 3}\n",
            "Accuracy:  0.8840970350404312  Variance:  0.21383717087143317\n",
            "\n",
            "\n",
            "Classification Report: \n",
            "              precision    recall  f1-score   support\n",
            "\n",
            "           0       0.88      1.00      0.94       313\n",
            "           1       0.94      0.28      0.43        58\n",
            "\n",
            "    accuracy                           0.88       371\n",
            "   macro avg       0.91      0.64      0.68       371\n",
            "weighted avg       0.89      0.88      0.86       371\n",
            "\n",
            "Params:  {'criterion': 'gini', 'max_depth': 2, 'min_samples_split': 8}\n",
            "Accuracy:  0.8840970350404312  Variance:  0.21383717087143317\n",
            "\n",
            "\n",
            "Classification Report: \n",
            "              precision    recall  f1-score   support\n",
            "\n",
            "           0       0.88      1.00      0.94       313\n",
            "           1       0.94      0.28      0.43        58\n",
            "\n",
            "    accuracy                           0.88       371\n",
            "   macro avg       0.91      0.64      0.68       371\n",
            "weighted avg       0.89      0.88      0.86       371\n",
            "\n",
            "Params:  {'criterion': 'gini', 'max_depth': 2, 'min_samples_split': 19}\n",
            "Accuracy:  0.8840970350404312  Variance:  0.21383717087143317\n",
            "\n",
            "\n",
            "Classification Report: \n",
            "              precision    recall  f1-score   support\n",
            "\n",
            "           0       0.89      0.97      0.93       313\n",
            "           1       0.72      0.36      0.48        58\n",
            "\n",
            "    accuracy                           0.88       371\n",
            "   macro avg       0.81      0.67      0.71       371\n",
            "weighted avg       0.87      0.88      0.86       371\n",
            "\n",
            "Params:  {'criterion': 'gini', 'max_depth': 5, 'min_samples_split': 2}\n",
            "Accuracy:  0.8787061994609164  Variance:  0.12669384157761365\n",
            "\n",
            "\n",
            "Classification Report: \n",
            "              precision    recall  f1-score   support\n",
            "\n",
            "           0       0.89      0.97      0.93       313\n",
            "           1       0.72      0.36      0.48        58\n",
            "\n",
            "    accuracy                           0.88       371\n",
            "   macro avg       0.81      0.67      0.71       371\n",
            "weighted avg       0.87      0.88      0.86       371\n",
            "\n",
            "Params:  {'criterion': 'gini', 'max_depth': 5, 'min_samples_split': 3}\n",
            "Accuracy:  0.8787061994609164  Variance:  0.12669384157761365\n",
            "\n",
            "\n",
            "Classification Report: \n",
            "              precision    recall  f1-score   support\n",
            "\n",
            "           0       0.89      0.97      0.93       313\n",
            "           1       0.72      0.36      0.48        58\n",
            "\n",
            "    accuracy                           0.88       371\n",
            "   macro avg       0.81      0.67      0.71       371\n",
            "weighted avg       0.87      0.88      0.86       371\n",
            "\n",
            "Params:  {'criterion': 'gini', 'max_depth': 5, 'min_samples_split': 8}\n",
            "Accuracy:  0.8787061994609164  Variance:  0.12669384157761365\n",
            "\n",
            "\n",
            "Classification Report: \n",
            "              precision    recall  f1-score   support\n",
            "\n",
            "           0       0.89      0.98      0.93       313\n",
            "           1       0.76      0.38      0.51        58\n",
            "\n",
            "    accuracy                           0.88       371\n",
            "   macro avg       0.83      0.68      0.72       371\n",
            "weighted avg       0.87      0.88      0.87       371\n",
            "\n",
            "Params:  {'criterion': 'gini', 'max_depth': 5, 'min_samples_split': 19}\n",
            "Accuracy:  0.8840970350404312  Variance:  0.16756637655613071\n",
            "\n",
            "\n",
            "Classification Report: \n",
            "              precision    recall  f1-score   support\n",
            "\n",
            "           0       0.92      0.96      0.94       313\n",
            "           1       0.74      0.53      0.62        58\n",
            "\n",
            "    accuracy                           0.90       371\n",
            "   macro avg       0.83      0.75      0.78       371\n",
            "weighted avg       0.89      0.90      0.89       371\n",
            "\n",
            "Params:  {'criterion': 'gini', 'max_depth': 10, 'min_samples_split': 2}\n",
            "Accuracy:  0.8975741239892183  Variance:  0.2375234108185521\n",
            "\n",
            "\n",
            "Classification Report: \n",
            "              precision    recall  f1-score   support\n",
            "\n",
            "           0       0.92      0.97      0.94       313\n",
            "           1       0.76      0.55      0.64        58\n",
            "\n",
            "    accuracy                           0.90       371\n",
            "   macro avg       0.84      0.76      0.79       371\n",
            "weighted avg       0.90      0.90      0.90       371\n",
            "\n",
            "Params:  {'criterion': 'gini', 'max_depth': 10, 'min_samples_split': 3}\n",
            "Accuracy:  0.9029649595687331  Variance:  0.2783959457970693\n",
            "\n",
            "\n",
            "Classification Report: \n",
            "              precision    recall  f1-score   support\n",
            "\n",
            "           0       0.92      0.96      0.94       313\n",
            "           1       0.74      0.53      0.62        58\n",
            "\n",
            "    accuracy                           0.90       371\n",
            "   macro avg       0.83      0.75      0.78       371\n",
            "weighted avg       0.89      0.90      0.89       371\n",
            "\n",
            "Params:  {'criterion': 'gini', 'max_depth': 10, 'min_samples_split': 8}\n",
            "Accuracy:  0.8975741239892183  Variance:  0.2375234108185521\n",
            "\n",
            "\n",
            "Classification Report: \n",
            "              precision    recall  f1-score   support\n",
            "\n",
            "           0       0.91      0.97      0.94       313\n",
            "           1       0.78      0.50      0.61        58\n",
            "\n",
            "    accuracy                           0.90       371\n",
            "   macro avg       0.85      0.74      0.78       371\n",
            "weighted avg       0.89      0.90      0.89       371\n",
            "\n",
            "Params:  {'criterion': 'gini', 'max_depth': 10, 'min_samples_split': 19}\n",
            "Accuracy:  0.9002695417789758  Variance:  0.26815026991296653\n",
            "\n",
            "\n",
            "Classification Report: \n",
            "              precision    recall  f1-score   support\n",
            "\n",
            "           0       0.93      0.93      0.93       313\n",
            "           1       0.62      0.64      0.63        58\n",
            "\n",
            "    accuracy                           0.88       371\n",
            "   macro avg       0.77      0.78      0.78       371\n",
            "weighted avg       0.88      0.88      0.88       371\n",
            "\n",
            "Params:  {'criterion': 'gini', 'max_depth': 50, 'min_samples_split': 2}\n",
            "Accuracy:  0.8814016172506739  Variance:  0.10102456758840983\n",
            "\n",
            "\n",
            "Classification Report: \n",
            "              precision    recall  f1-score   support\n",
            "\n",
            "           0       0.92      0.94      0.93       313\n",
            "           1       0.64      0.59      0.61        58\n",
            "\n",
            "    accuracy                           0.88       371\n",
            "   macro avg       0.78      0.76      0.77       371\n",
            "weighted avg       0.88      0.88      0.88       371\n",
            "\n",
            "Params:  {'criterion': 'gini', 'max_depth': 50, 'min_samples_split': 3}\n",
            "Accuracy:  0.8840970350404312  Variance:  0.1226176049355514\n",
            "\n",
            "\n",
            "Classification Report: \n",
            "              precision    recall  f1-score   support\n",
            "\n",
            "           0       0.92      0.94      0.93       313\n",
            "           1       0.65      0.59      0.62        58\n",
            "\n",
            "    accuracy                           0.89       371\n",
            "   macro avg       0.79      0.76      0.78       371\n",
            "weighted avg       0.88      0.89      0.88       371\n",
            "\n",
            "Params:  {'criterion': 'gini', 'max_depth': 50, 'min_samples_split': 8}\n",
            "Accuracy:  0.8867924528301887  Variance:  0.14365979949322416\n",
            "\n",
            "\n",
            "Classification Report: \n",
            "              precision    recall  f1-score   support\n",
            "\n",
            "           0       0.92      0.97      0.94       313\n",
            "           1       0.75      0.52      0.61        58\n",
            "\n",
            "    accuracy                           0.90       371\n",
            "   macro avg       0.83      0.74      0.78       371\n",
            "weighted avg       0.89      0.90      0.89       371\n",
            "\n",
            "Params:  {'criterion': 'gini', 'max_depth': 50, 'min_samples_split': 19}\n",
            "Accuracy:  0.8975741239892183  Variance:  0.24126914178693382\n",
            "\n",
            "\n",
            "Classification Report: \n",
            "              precision    recall  f1-score   support\n",
            "\n",
            "           0       0.93      0.93      0.93       313\n",
            "           1       0.62      0.64      0.63        58\n",
            "\n",
            "    accuracy                           0.88       371\n",
            "   macro avg       0.77      0.78      0.78       371\n",
            "weighted avg       0.88      0.88      0.88       371\n",
            "\n",
            "Params:  {'criterion': 'gini', 'max_depth': 100, 'min_samples_split': 2}\n",
            "Accuracy:  0.8814016172506739  Variance:  0.10102456758840983\n",
            "\n",
            "\n",
            "Classification Report: \n",
            "              precision    recall  f1-score   support\n",
            "\n",
            "           0       0.92      0.94      0.93       313\n",
            "           1       0.64      0.59      0.61        58\n",
            "\n",
            "    accuracy                           0.88       371\n",
            "   macro avg       0.78      0.76      0.77       371\n",
            "weighted avg       0.88      0.88      0.88       371\n",
            "\n",
            "Params:  {'criterion': 'gini', 'max_depth': 100, 'min_samples_split': 3}\n",
            "Accuracy:  0.8840970350404312  Variance:  0.1226176049355514\n",
            "\n",
            "\n",
            "Classification Report: \n",
            "              precision    recall  f1-score   support\n",
            "\n",
            "           0       0.92      0.94      0.93       313\n",
            "           1       0.65      0.59      0.62        58\n",
            "\n",
            "    accuracy                           0.89       371\n",
            "   macro avg       0.79      0.76      0.78       371\n",
            "weighted avg       0.88      0.89      0.88       371\n",
            "\n",
            "Params:  {'criterion': 'gini', 'max_depth': 100, 'min_samples_split': 8}\n",
            "Accuracy:  0.8867924528301887  Variance:  0.14365979949322416\n",
            "\n",
            "\n",
            "Classification Report: \n",
            "              precision    recall  f1-score   support\n",
            "\n",
            "           0       0.92      0.97      0.94       313\n",
            "           1       0.75      0.52      0.61        58\n",
            "\n",
            "    accuracy                           0.90       371\n",
            "   macro avg       0.83      0.74      0.78       371\n",
            "weighted avg       0.89      0.90      0.89       371\n",
            "\n",
            "Params:  {'criterion': 'gini', 'max_depth': 100, 'min_samples_split': 19}\n",
            "Accuracy:  0.8975741239892183  Variance:  0.24126914178693382\n",
            "\n",
            "DecisionTreeClassifier(ccp_alpha=0.0, class_weight=None, criterion='gini',\n",
            "                       max_depth=10, max_features=None, max_leaf_nodes=None,\n",
            "                       min_impurity_decrease=0.0, min_impurity_split=None,\n",
            "                       min_samples_leaf=1, min_samples_split=3,\n",
            "                       min_weight_fraction_leaf=0.0, presort='deprecated',\n",
            "                       random_state=0, splitter='best') 0.9029649595687331 {'criterion': 'gini', 'max_depth': 10, 'min_samples_split': 3} 0.2783959457970693\n"
          ],
          "name": "stdout"
        }
      ]
    },
    {
      "cell_type": "markdown",
      "metadata": {
        "id": "oHq5Hadsno2n"
      },
      "source": [
        "Luego, el modelo que mejor clasifica tiene una accuracy de 0.9029649595687331, sus parametros son:  {'criterion': 'gini', 'max_depth': 10, 'min_samples_split': 3} y tiene una varianza de 0.2783959457970693. Si entrenamos con este modelo, nos queda:"
      ]
    },
    {
      "cell_type": "code",
      "metadata": {
        "colab": {
          "base_uri": "https://localhost:8080/",
          "height": 727
        },
        "id": "FYyGgvL7n9IK",
        "outputId": "be16f735-b291-4018-c43b-bc2ab2183de1"
      },
      "source": [
        "y_predict_train = best_model.predict(X_train)\n",
        "y_predict_test = best_model.predict(X_test)\n",
        "\n",
        "print('Reporte de clasificacion del conjunto de test: ')\n",
        "print('')\n",
        "print(classification_report(y_test, y_predict_test, target_names=names))\n",
        "print('Reporte de clasificacion del conjunto de training: ')\n",
        "print('')\n",
        "print(classification_report(y_train, y_predict_train, target_names=names))\n",
        "\n",
        "print(confusion_matrix(y_test, y_predict_test))\n",
        "#print(confusion_matrix(y_train, y_predict_train))\n",
        "\n",
        "sn.heatmap(confusion_matrix(y_test, y_predict_test),annot=True)\n",
        "plt.title('Matriz de Confusion de Clasificador Decision Tree c/ ParameterGrid',fontsize=15)"
      ],
      "execution_count": null,
      "outputs": [
        {
          "output_type": "stream",
          "text": [
            "Reporte de clasificacion del conjunto de test: \n",
            "\n",
            "                 precision    recall  f1-score   support\n",
            "\n",
            "Cliente Pagador       0.92      0.97      0.94       313\n",
            " Cliente Deudor       0.76      0.55      0.64        58\n",
            "\n",
            "       accuracy                           0.90       371\n",
            "      macro avg       0.84      0.76      0.79       371\n",
            "   weighted avg       0.90      0.90      0.90       371\n",
            "\n",
            "Reporte de clasificacion del conjunto de training: \n",
            "\n",
            "                 precision    recall  f1-score   support\n",
            "\n",
            "Cliente Pagador       0.95      1.00      0.97      1232\n",
            " Cliente Deudor       0.99      0.74      0.84       251\n",
            "\n",
            "       accuracy                           0.95      1483\n",
            "      macro avg       0.97      0.87      0.91      1483\n",
            "   weighted avg       0.96      0.95      0.95      1483\n",
            "\n",
            "[[303  10]\n",
            " [ 26  32]]\n"
          ],
          "name": "stdout"
        },
        {
          "output_type": "execute_result",
          "data": {
            "text/plain": [
              "Text(0.5, 1.0, 'Matriz de Confusion de Clasificador Decision Tree c/ ParameterGrid')"
            ]
          },
          "metadata": {
            "tags": []
          },
          "execution_count": 39
        },
        {
          "output_type": "display_data",
          "data": {
            "image/png": "[encoded data removed]",
            "text/plain": [
              "<Figure size 432x288 with 2 Axes>"
            ]
          },
          "metadata": {
            "tags": [],
            "needs_background": "light"
          }
        }
      ]
    },
    {
      "cell_type": "markdown",
      "metadata": {
        "id": "LIo8qw2koRPI"
      },
      "source": [
        "Vemos que si bien la accuracy ha mejorado xq se predicen mejor los TN, vemos que ha disminuido el valor de TP predichos asi como ha aumentado el numero de FP y FN. \n",
        "No creemos que el modelo haya mejorado. \n",
        "Notar que la eleccion de un mejor modelo esta basado en la accuracy que ya dijimos no era una buena metrica de comparacion en este caso. Pero si en vez de la accuracy, usamos como scoring \"recall_weighted\" por ej, obtenemos lo mismo, asi que no sabemos. \n"
      ]
    },
    {
      "cell_type": "code",
      "metadata": {
        "colab": {
          "base_uri": "https://localhost:8080/",
          "height": 834
        },
        "id": "UvixC2o3prXj",
        "outputId": "c38129f9-a28b-43f5-f4d0-ee3a1d25421c"
      },
      "source": [
        "param_grid = {\n",
        "    'criterion': ['entropy','gini'],\n",
        "    'max_depth': [None,2,5,10,50,100],\n",
        "    'min_samples_split' : [2,3,8,19]\n",
        "}\n",
        "\n",
        "prev_accuracy_score = 0\n",
        "for params in ParameterGrid(param_grid):\n",
        "    model = DecisionTreeClassifier(**params, random_state=0)\n",
        "    model.fit(X_train, y_train)\n",
        "    y_predict_test = model.predict(X_test)\n",
        "    accuracy = recall_score(y_test, y_predict_test, average='micro')\n",
        "    variance = explained_variance_score(y_test, y_predict_test, multioutput='uniform_average')\n",
        "#    print()\n",
        " #   print('Classification Report: ')\n",
        "  #  print(classification_report(y_test, y_predict_test))\n",
        "   # print('Params: ',params)\n",
        "   # print('Accuracy: ', accuracy,' Variance: ', variance)\n",
        "   # print()\n",
        "    if accuracy > prev_accuracy_score:\n",
        "      best_model = model\n",
        "      prev_accuracy_score = accuracy\n",
        "      best_params = params\n",
        "      best_variance = variance\n",
        "\n",
        "print(best_model, prev_accuracy_score, best_params, best_variance)\n",
        "\n",
        "y_predict_train = best_model.predict(X_train)\n",
        "y_predict_test = best_model.predict(X_test)\n",
        "\n",
        "print('Reporte de clasificacion del conjunto de test: ')\n",
        "print('')\n",
        "print(classification_report(y_test, y_predict_test, target_names=names))\n",
        "print('Reporte de clasificacion del conjunto de training: ')\n",
        "print('')\n",
        "print(classification_report(y_train, y_predict_train, target_names=names))\n",
        "\n",
        "print(confusion_matrix(y_test, y_predict_test))\n",
        "#print(confusion_matrix(y_train, y_predict_train))\n",
        "\n",
        "sn.heatmap(confusion_matrix(y_test, y_predict_test),annot=True)\n",
        "plt.title('Matriz de Confusion de Clasificador Decision Tree c/ ParameterGrid & recall',fontsize=15)"
      ],
      "execution_count": null,
      "outputs": [
        {
          "output_type": "stream",
          "text": [
            "DecisionTreeClassifier(ccp_alpha=0.0, class_weight=None, criterion='gini',\n",
            "                       max_depth=10, max_features=None, max_leaf_nodes=None,\n",
            "                       min_impurity_decrease=0.0, min_impurity_split=None,\n",
            "                       min_samples_leaf=1, min_samples_split=3,\n",
            "                       min_weight_fraction_leaf=0.0, presort='deprecated',\n",
            "                       random_state=0, splitter='best') 0.9029649595687331 {'criterion': 'gini', 'max_depth': 10, 'min_samples_split': 3} 0.2783959457970693\n",
            "Reporte de clasificacion del conjunto de test: \n",
            "\n",
            "                 precision    recall  f1-score   support\n",
            "\n",
            "Cliente Pagador       0.92      0.97      0.94       313\n",
            " Cliente Deudor       0.76      0.55      0.64        58\n",
            "\n",
            "       accuracy                           0.90       371\n",
            "      macro avg       0.84      0.76      0.79       371\n",
            "   weighted avg       0.90      0.90      0.90       371\n",
            "\n",
            "Reporte de clasificacion del conjunto de training: \n",
            "\n",
            "                 precision    recall  f1-score   support\n",
            "\n",
            "Cliente Pagador       0.95      1.00      0.97      1232\n",
            " Cliente Deudor       0.99      0.74      0.84       251\n",
            "\n",
            "       accuracy                           0.95      1483\n",
            "      macro avg       0.97      0.87      0.91      1483\n",
            "   weighted avg       0.96      0.95      0.95      1483\n",
            "\n",
            "[[303  10]\n",
            " [ 26  32]]\n"
          ],
          "name": "stdout"
        },
        {
          "output_type": "execute_result",
          "data": {
            "text/plain": [
              "Text(0.5, 1.0, 'Matriz de Confusion de Clasificador Decision Tree c/ ParameterGrid & recall')"
            ]
          },
          "metadata": {
            "tags": []
          },
          "execution_count": 40
        },
        {
          "output_type": "display_data",
          "data": {
            "image/png": "[encoded data removed]",
            "text/plain": [
              "<Figure size 432x288 with 2 Axes>"
            ]
          },
          "metadata": {
            "tags": [],
            "needs_background": "light"
          }
        }
      ]
    },
    {
      "cell_type": "markdown",
      "metadata": {
        "id": "7rWgh5k6r2et"
      },
      "source": [
        "Ahora emplearemos nuevamente GridSearchCV para hacer validacion cruzada sobre una grilla de parametros (la grilla ya empleada anteriormente). Emplearemos como scoring la accuracy para evaluar la performance de cada modelo y cv=5. \n"
      ]
    },
    {
      "cell_type": "code",
      "metadata": {
        "colab": {
          "base_uri": "https://localhost:8080/",
          "height": 727
        },
        "id": "0bkcOZZ1F3Io",
        "outputId": "64de05d1-da32-496c-bbd7-d2a118482c54"
      },
      "source": [
        "model = DecisionTreeClassifier(random_state=0)\n",
        "best_model = GridSearchCV(model, param_grid, scoring='accuracy', cv=5)\n",
        "best_model.fit(X_train, y_train)\n",
        "\n",
        "y_predict_test = best_model.predict(X_test)\n",
        "y_predict_train = best_model.predict(X_train)\n",
        "\n",
        "print('Reporte de clasificacion del conjunto de test: ')\n",
        "print('')\n",
        "print(classification_report(y_test, y_predict_test, target_names=names))\n",
        "print('Reporte de clasificacion del conjunto de training: ')\n",
        "print('')\n",
        "print(classification_report(y_train, y_predict_train, target_names=names))\n",
        "\n",
        "print(confusion_matrix(y_test, y_predict_test))\n",
        "sn.heatmap(confusion_matrix(y_test, y_predict_test),annot=True)\n",
        "plt.title('Matriz de Confusion de Clasificador Decision Tree c/ CV',fontsize=15)"
      ],
      "execution_count": null,
      "outputs": [
        {
          "output_type": "stream",
          "text": [
            "Reporte de clasificacion del conjunto de test: \n",
            "\n",
            "                 precision    recall  f1-score   support\n",
            "\n",
            "Cliente Pagador       0.92      0.96      0.94       313\n",
            " Cliente Deudor       0.74      0.53      0.62        58\n",
            "\n",
            "       accuracy                           0.90       371\n",
            "      macro avg       0.83      0.75      0.78       371\n",
            "   weighted avg       0.89      0.90      0.89       371\n",
            "\n",
            "Reporte de clasificacion del conjunto de training: \n",
            "\n",
            "                 precision    recall  f1-score   support\n",
            "\n",
            "Cliente Pagador       0.95      0.99      0.97      1232\n",
            " Cliente Deudor       0.95      0.73      0.83       251\n",
            "\n",
            "       accuracy                           0.95      1483\n",
            "      macro avg       0.95      0.86      0.90      1483\n",
            "   weighted avg       0.95      0.95      0.95      1483\n",
            "\n",
            "[[302  11]\n",
            " [ 27  31]]\n"
          ],
          "name": "stdout"
        },
        {
          "output_type": "execute_result",
          "data": {
            "text/plain": [
              "Text(0.5, 1.0, 'Matriz de Confusion de Clasificador Decision Tree c/ CV')"
            ]
          },
          "metadata": {
            "tags": []
          },
          "execution_count": 41
        },
        {
          "output_type": "display_data",
          "data": {
            "image/png": "[encoded data removed]",
            "text/plain": [
              "<Figure size 432x288 with 2 Axes>"
            ]
          },
          "metadata": {
            "tags": [],
            "needs_background": "light"
          }
        }
      ]
    },
    {
      "cell_type": "markdown",
      "metadata": {
        "id": "QBHSsBlnsTAy"
      },
      "source": [
        "No vemos mejoria con respecto a la ultima clasificacion. Veamos que ocurre si empleamos como scoring el recall:"
      ]
    },
    {
      "cell_type": "code",
      "metadata": {
        "colab": {
          "base_uri": "https://localhost:8080/",
          "height": 727
        },
        "id": "yJrp3uJ0Ne5S",
        "outputId": "3277171e-729c-465a-b3ed-2f40eb727ab7"
      },
      "source": [
        "best_model = GridSearchCV(model, param_grid, scoring='recall', cv=5)\n",
        "best_model.fit(X_train, y_train)\n",
        "\n",
        "y_predict_test = best_model.predict(X_test)\n",
        "y_predict_train = best_model.predict(X_train)\n",
        "\n",
        "print('Reporte de clasificacion del conjunto de test: ')\n",
        "print('')\n",
        "print(classification_report(y_test, y_predict_test, target_names=names))\n",
        "print('Reporte de clasificacion del conjunto de training: ')\n",
        "print('')\n",
        "print(classification_report(y_train, y_predict_train, target_names=names))\n",
        "\n",
        "print(confusion_matrix(y_test, y_predict_test))\n",
        "sn.heatmap(confusion_matrix(y_test, y_predict_test),annot=True)\n",
        "plt.title('Matriz de Confusion de Clasificador Decision Tree c/ CV & recall',fontsize=15)"
      ],
      "execution_count": null,
      "outputs": [
        {
          "output_type": "stream",
          "text": [
            "Reporte de clasificacion del conjunto de test: \n",
            "\n",
            "                 precision    recall  f1-score   support\n",
            "\n",
            "Cliente Pagador       0.94      0.94      0.94       313\n",
            " Cliente Deudor       0.66      0.66      0.66        58\n",
            "\n",
            "       accuracy                           0.89       371\n",
            "      macro avg       0.80      0.80      0.80       371\n",
            "   weighted avg       0.89      0.89      0.89       371\n",
            "\n",
            "Reporte de clasificacion del conjunto de training: \n",
            "\n",
            "                 precision    recall  f1-score   support\n",
            "\n",
            "Cliente Pagador       1.00      1.00      1.00      1232\n",
            " Cliente Deudor       1.00      1.00      1.00       251\n",
            "\n",
            "       accuracy                           1.00      1483\n",
            "      macro avg       1.00      1.00      1.00      1483\n",
            "   weighted avg       1.00      1.00      1.00      1483\n",
            "\n",
            "[[293  20]\n",
            " [ 20  38]]\n"
          ],
          "name": "stdout"
        },
        {
          "output_type": "execute_result",
          "data": {
            "text/plain": [
              "Text(0.5, 1.0, 'Matriz de Confusion de Clasificador Decision Tree c/ CV & recall')"
            ]
          },
          "metadata": {
            "tags": []
          },
          "execution_count": 42
        },
        {
          "output_type": "display_data",
          "data": {
            "image/png": "[encoded data removed]",
            "text/plain": [
              "<Figure size 432x288 with 2 Axes>"
            ]
          },
          "metadata": {
            "tags": [],
            "needs_background": "light"
          }
        }
      ]
    },
    {
      "cell_type": "markdown",
      "metadata": {
        "id": "R8GV5mB0sd5X"
      },
      "source": [
        "Ahora si, vemos que si bien la accuracy bajó, el recall en la clase \"cliente deudor\" subió. Vemos que hemos optimizado el numero de TP y de FN, aunque han disminuido los TN y han aumentado los FN. \n",
        "De igual manera, es mejor clasificar incorrectamente un cliente pagador como moroso que asumir que un cliente moroso nos va a pagar. "
      ]
    }
  ]
}